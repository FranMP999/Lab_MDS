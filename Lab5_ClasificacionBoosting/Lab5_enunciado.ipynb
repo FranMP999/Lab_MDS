{
  "cells": [
    {
      "cell_type": "markdown",
      "metadata": {
        "id": "_Tgm8mCA9Dp3"
      },
      "source": [
        "# Laboratorio 5: Clasificación 🤗\n",
        "\n",
        "<center><strong>MDS7202: Laboratorio de Programación Científica para Ciencia de Datos - Primavera 2024</strong></center>\n"
      ]
    },
    {
      "cell_type": "markdown",
      "metadata": {
        "id": "11Kc_ibM9GXH"
      },
      "source": [
        "###\n",
        "Cuerpo Docente:\n",
        "\n",
        "- Profesores: Stefano Schiappacasse, Sebastián Tinoco\n",
        "- Auxiliares: Melanie Peña, Valentina Rojas\n",
        "- Ayudantes: Angelo Muñoz, Valentina Zúñiga"
      ]
    },
    {
      "cell_type": "markdown",
      "metadata": {
        "id": "u9dUSltr9JrN"
      },
      "source": [
        "### Equipo: SUPER IMPORTANTE - notebooks sin nombre no serán revisados\n",
        "\n",
        "- Nombre de alumno 1: Francisco Maldonado\n",
        "- Nombre de alumno 2:"
      ]
    },
    {
      "cell_type": "markdown",
      "metadata": {
        "id": "pC1IloytrsAx"
      },
      "source": [
        "### **Link de repositorio de GitHub:** [Repositorio](https://github.com/FranMP999/)"
      ]
    },
    {
      "cell_type": "markdown",
      "metadata": {
        "id": "YBa48PDF9OHw"
      },
      "source": [
        "### Temas a tratar\n",
        "- Clasificación en problemas desbalanceados\n",
        "- Lightgbm y xgboost\n",
        "- Pipelines"
      ]
    },
    {
      "cell_type": "markdown",
      "metadata": {
        "id": "mkhnnMx49Qrh"
      },
      "source": [
        "## Reglas:\n",
        "\n",
        "- **Grupos de 2 personas**\n",
        "- Fecha de entrega: 6 días de plazo con descuento de 1 punto por día. Entregas Martes a las 23:59.\n",
        "- Instrucciones del lab el viernes a las 16:15 en formato online. Asistencia no es obligatoria, pero se recomienda fuertemente asistir.\n",
        "- <u>Prohibidas las copias</u>. Cualquier intento de copia será debidamente penalizado con el reglamento de la escuela.\n",
        "- Tienen que subir el laboratorio a u-cursos y a su repositorio de github. Labs que no estén en u-cursos no serán revisados. Recuerden que el repositorio también tiene nota.\n",
        "- Cualquier duda fuera del horario de clases al foro. Mensajes al equipo docente serán respondidos por este medio.\n",
        "- Pueden usar cualquier material del curso que estimen conveniente.\n"
      ]
    },
    {
      "cell_type": "markdown",
      "metadata": {
        "id": "sxzJ48Vv8quO"
      },
      "source": [
        "\n",
        "\n",
        "### Objetivos principales del laboratorio\n",
        "- Comprender cómo trabajar con problemas de clasificación con clases desbalanceadas.\n",
        "- Aplicar los modelos lightgbm y xgboost.\n",
        "- Practicar Pipelines"
      ]
    },
    {
      "cell_type": "markdown",
      "metadata": {
        "id": "k-ao0mOU64Ru"
      },
      "source": [
        "# Parte Teórica [12 puntos]\n",
        "\n",
        "\n"
      ]
    },
    {
      "cell_type": "markdown",
      "metadata": {
        "id": "ApXKwPDmxcEV"
      },
      "source": [
        "1. Explique cuál es la diferencia entre los datos de entrenamiento y validación. [1 punto]\n",
        "\n",
        "2. Explique cuál es el principal desafío al trabajar problemas de clasificación con data no supervisada. [1 punto]\n",
        "\n",
        "3. Explique en **sus palabras** qué es la matriz de confusión y para qué se utiliza. [1 puntos]\n",
        "\n",
        "4. Escriba la fórmula de las siguientes métricas y explique con **sus palabras** cómo se interpretan. [1 punto cada uno]\n",
        "\n",
        "5. Explique qué métrica recomendaría para los siguientes contextos de clasificación. [1 punto cada uno]\n",
        "\n",
        "  * Mantenimiento predictivo de fallas de maquinaria pesada en la industria minera.  \n",
        "  * Detección de enfermedades altamente contagiosas.\n",
        "  * Aprobación de créditos de alto riesgo.\n",
        "  * Detección de crímenes.\n",
        "\n",
        "6. Explique qué es la calibración de modelos y para qué se usa. [1 punto]\n"
      ]
    },
    {
      "cell_type": "markdown",
      "metadata": {
        "id": "Yy4QMWD8-FPk"
      },
      "source": [
        "**Respuesta:**"
      ]
    },
    {
      "cell_type": "markdown",
      "metadata": {
        "id": "QYFdD1aK-ICa"
      },
      "source": [
        "\n",
        "\n",
        "1.\n",
        "Los datos de entrenamiento se utilizan para que el modelo aprenda mientras que los de validación no se usan para aprender, sino para evaluar el desempeño del modelo durante la fase de entrenamiento para ajustar hiperparámetros o detectar overfitting.\n",
        "\n",
        "3.\n",
        "Aunque resulte redundante el mayor problema de la clasificación no supervisada es la ausencia de etiquetas con las cuales evaluar el desempeño del modelo, sin estas no hay un criterio estricto para el ajuste de parámetros o selección del modelo, dependiendo en última instancia del criterio experto para evaluar el desempeño, y quedando la interpretabilidad de los patrones encontrados al desempeño de algoritmos de reducción de dimensionalidad que permitan distinguir algo de valor visualmente.\n",
        "\n",
        "4. La matriz de confusión es una tabla que ayuda a visualizar el desempeño de un algoritmo de clasificación,\n",
        "cada fila representa las instancias de la clase real y cada columna las instancias de la clase predicha. Por ejemplo: $M_{i,j}=30$ quiere decir que hay 30 datos de la clase i que fueron predichos como pertenecientes a la clase j.\n",
        "\n",
        "5. Escriba la fórmula de las siguientes métricas y explique con **sus palabras** cómo se interpretan. [1 punto cada uno]\n",
        "\n",
        "  * Accuracy: El accuracy representa simplemente la tasa de observaciones bien clasificadas, es útil en datasets equilibrados o cuando se entiende poco del problema. $$\\text{accuracy} = \\frac{\\text{número de predicciones correctas}}{\\text{número de predicciones totales}} = \\frac{TP + TN}{TP+TN+FP+FN}$$\n",
        "  * Precision: La precisión representa cuantas de las observaciones clasificadas como positivos son realmente positivos. Mejora cuando disminuyen los falsos positivos. Lo optimizamos cuando queremos evitar los falsos positivos lo máximo posible, e.g: la mayoría de campañas de marketing. $$P = \\frac{\\text{Clasificados correctamente como positivo}}{\\text{Todos los predichos como positivos}} =\\frac{TP}{(TP + FP)}$$\n",
        "  * Recall:  El recall representa cuantas de las observaciones que se debieron identificar como positivas lo fueron realmente. Mejora cuando disminuyen los falsos negativos. Lo optimizamos cuando queremos evitar los falsos negativos lo máximo posible, e.g: cuando clasificamos una enfermedad. $$R = \\frac{\\text{Clasificados correctamente como positivo}}{\\text{Todos los que debería haber clasificado como positivos}}  = \\frac{TP}{(TP+FN)}$$\n",
        "  * F1 score: El F1 busca equilibrar precision y recall, al ser un promedio armónico disminuye si los valores de precision y recall son muy distintos.\n",
        " $$F = \\frac{2PR}{(P+R)}$$\n",
        "    \n",
        "\n",
        "5.\n",
        "\n",
        "  * Mantenimiento predictivo de fallas de maquinaria pesada en la industria minera: No queremos clasificar como buenas maquinas defectuosas $\\Rightarrow$ disminuir falsos negativos (clase positiva es falla) $\\Rightarrow$ Recall.\n",
        "  * Detección de enfermedades altamente contagiosas: No queremos clasificar como sanos a personas enfermas $\\Rightarrow$ disminuir falsos negativos (clase positiva es enfermo) $\\Rightarrow$ Recall.\n",
        "  * Aprobación de créditos de alto riesgo: No queremos clasificar como buenos a clientes malos $\\Rightarrow$ disminuir falsos positivos (clase positiva es cliente apto a crédito) $\\Rightarrow$ Precision.\n",
        "  * Detección de crímenes: No queremos clasificar como criminales a gente inocente $\\Rightarrow$ disminuir falsos positivos (clase positiva es criminal) $\\Rightarrow$ Precision.\n",
        "\n",
        "6.\n",
        "   La calibración de modelos corresponde al ajuste de las probabilidades entregadas por un modelo a las probabilidades reales de ocurrencia de las clases y no sólo a un puntaje abstracto que optimiza la clasificación, ntuitivamente uno quiere tener calibrado para poder interpretar sus probabilidades estimadas como frecuencias a largo plazo.\n",
        "\n",
        "   Es importante aplicar una calibración, ya que los modelos de machine learning por lo general poseen sesgos en las distribuciones de salida (intrínsecos), por lo que aplicar modelos de calibración pueden ayudar enormemente en la toma de decisiones de nuestros modelos y en modular nuestros scores. Tras calibrar, las probabilidades estimadas permiten flexibilidad en la aplicación de los resultados y mejoran la modularidad del modelo, pues los clasificadores individuales son a menudo entradas en sistemas más grandes que toman las decisiones finales.\n",
        "\n",
        "\n"
      ]
    },
    {
      "cell_type": "markdown",
      "metadata": {
        "id": "Jg_9jBqtgRDO"
      },
      "source": [
        "# Parte práctica [48 puntos]"
      ]
    },
    {
      "cell_type": "code",
      "execution_count": 20,
      "metadata": {
        "id": "YLcpfz8OOyPq"
      },
      "outputs": [],
      "source": [
        "#Librerías\n",
        "import pandas as pd\n",
        "import numpy as np\n",
        "import matplotlib.pyplot as plt\n",
        "\n",
        "from sklearn.compose import ColumnTransformer\n",
        "from sklearn.pipeline import Pipeline\n",
        "\n",
        "from sklearn.preprocessing import OneHotEncoder, RobustScaler\n",
        "\n",
        "from sklearn.model_selection import train_test_split\n",
        "from xgboost import XGBClassifier\n",
        "from lightgbm import LGBMClassifier\n",
        "from sklearn.svm import LinearSVC\n",
        "from sklearn.metrics import classification_report, confusion_matrix, brier_score_loss\n",
        "from sklearn.calibration import CalibratedClassifierCV\n",
        "\n",
        "# Random State permite controlar la aleatoridad.\n",
        "# Es decir, permite generar los mismos números aleatorios en distintas ejecuciones.\n",
        "RANDOM_STATE = 99"
      ]
    },
    {
      "cell_type": "markdown",
      "metadata": {
        "id": "slm6yRfdfZwS"
      },
      "source": [
        "Tras el trágico despido de la mítica mascota de Maipú, Renacín decide adentrarse como consultor en el mercado futbolero, el cuál (para variar...) está cargado en especulaciones.\n",
        "\n",
        "Como su principal tarea será asesorar a los directivos de los clubes sobre cuál jugador comprar y cuál no, Renacín desea generar modelos predictivos que evaluén distintas características de los jugadores; todo con el fin de tomar decisiones concretas basadas en los datos.\n",
        "\n",
        "Sin embargo, su condición de corporeo le impidió tomar la versión anterior de MDS7202, por lo que este motivo Renacín contrata a su equipo para lograr su objetivo final. Dado que aún tiene fuertes vínculos con la dirección de deportes de la municipalidad, el corporeo le entrega base de datos con las estadísticas de cada jugador para que su equipo empieze a trabajar ya con un dataset listo para ser usado.\n"
      ]
    },
    {
      "cell_type": "markdown",
      "metadata": {
        "id": "jnbx7RwHfkue"
      },
      "source": [
        "**Los Datos**\n",
        "\n",
        "Para este laboratorio deberán trabajar con el csv `statsplayers.csv`, donde deberán aplicar algoritmos de aprendizaje supervisado de clasificación en base a características que describen de jugadores de fútbol.\n",
        "\n",
        "Para comenzar cargue el dataset señalado y a continuación vea el reporte **`Player_Stats_Report.html`** (adjunto en la carpeta del enunciado) que describe las características principales del `DataFrame`."
      ]
    },
    {
      "cell_type": "code",
      "execution_count": null,
      "metadata": {
        "id": "mX6iwOWUfrp_",
        "outputId": "c1ea427a-d1c1-4a41-c70b-174403e3543a"
      },
      "outputs": [
        {
          "name": "stdout",
          "output_type": "stream",
          "text": [
            "Ignorando conexión drive-colab\n"
          ]
        }
      ],
      "source": [
        "# Si usted está utilizando Colabolatory le puede ser útil este código para cargar los archivos.\n",
        "try:\n",
        "    from google.colab import drive\n",
        "    drive.mount(\"/content/drive\")\n",
        "    path = 'Dirección donde tiene los archivos en el Drive'\n",
        "except:\n",
        "    print('Ignorando conexión drive-colab')"
      ]
    },
    {
      "cell_type": "code",
      "execution_count": 2,
      "metadata": {
        "colab": {
          "base_uri": "https://localhost:8080/",
          "height": 342
        },
        "id": "rRr9gp1tOyPu",
        "outputId": "f70cd9cc-4b8e-4b7a-f961-4553592ff048"
      },
      "outputs": [
        {
          "output_type": "execute_result",
          "data": {
            "text/plain": [
              "                Name Nationality National_Position Club_Position  Height  \\\n",
              "0  Cristiano Ronaldo    Portugal                LS            LW     185   \n",
              "1       Lionel Messi   Argentina                RW            RW     170   \n",
              "2             Neymar      Brazil                LW            LW     174   \n",
              "3        Luis Suárez     Uruguay                LS            ST     182   \n",
              "4       Manuel Neuer     Germany                GK            GK     193   \n",
              "\n",
              "   Weight Preffered_Foot  Age        Work_Rate  Weak_foot  ...  Agility  \\\n",
              "0      80          Right   32       High / Low          4  ...       90   \n",
              "1      72           Left   29  Medium / Medium          4  ...       90   \n",
              "2      68          Right   25    High / Medium          5  ...       96   \n",
              "3      85          Right   30    High / Medium          4  ...       86   \n",
              "4      92          Right   31  Medium / Medium          4  ...       52   \n",
              "\n",
              "   Jumping  Heading  Shot_Power  Finishing  Long_Shots  Curve  \\\n",
              "0       95       85          92         93          90     81   \n",
              "1       68       71          85         95          88     89   \n",
              "2       61       62          78         89          77     79   \n",
              "3       69       77          87         94          86     86   \n",
              "4       78       25          25         13          16     14   \n",
              "\n",
              "   Freekick_Accuracy  Penalties  Volleys  \n",
              "0                 76         85       88  \n",
              "1                 90         74       85  \n",
              "2                 84         81       83  \n",
              "3                 84         85       88  \n",
              "4                 11         47       11  \n",
              "\n",
              "[5 rows x 39 columns]"
            ],
            "text/html": [
              "\n",
              "  <div id=\"df-41078d24-d147-4ad4-8198-03eacc6c6f04\" class=\"colab-df-container\">\n",
              "    <div>\n",
              "<style scoped>\n",
              "    .dataframe tbody tr th:only-of-type {\n",
              "        vertical-align: middle;\n",
              "    }\n",
              "\n",
              "    .dataframe tbody tr th {\n",
              "        vertical-align: top;\n",
              "    }\n",
              "\n",
              "    .dataframe thead th {\n",
              "        text-align: right;\n",
              "    }\n",
              "</style>\n",
              "<table border=\"1\" class=\"dataframe\">\n",
              "  <thead>\n",
              "    <tr style=\"text-align: right;\">\n",
              "      <th></th>\n",
              "      <th>Name</th>\n",
              "      <th>Nationality</th>\n",
              "      <th>National_Position</th>\n",
              "      <th>Club_Position</th>\n",
              "      <th>Height</th>\n",
              "      <th>Weight</th>\n",
              "      <th>Preffered_Foot</th>\n",
              "      <th>Age</th>\n",
              "      <th>Work_Rate</th>\n",
              "      <th>Weak_foot</th>\n",
              "      <th>...</th>\n",
              "      <th>Agility</th>\n",
              "      <th>Jumping</th>\n",
              "      <th>Heading</th>\n",
              "      <th>Shot_Power</th>\n",
              "      <th>Finishing</th>\n",
              "      <th>Long_Shots</th>\n",
              "      <th>Curve</th>\n",
              "      <th>Freekick_Accuracy</th>\n",
              "      <th>Penalties</th>\n",
              "      <th>Volleys</th>\n",
              "    </tr>\n",
              "  </thead>\n",
              "  <tbody>\n",
              "    <tr>\n",
              "      <th>0</th>\n",
              "      <td>Cristiano Ronaldo</td>\n",
              "      <td>Portugal</td>\n",
              "      <td>LS</td>\n",
              "      <td>LW</td>\n",
              "      <td>185</td>\n",
              "      <td>80</td>\n",
              "      <td>Right</td>\n",
              "      <td>32</td>\n",
              "      <td>High / Low</td>\n",
              "      <td>4</td>\n",
              "      <td>...</td>\n",
              "      <td>90</td>\n",
              "      <td>95</td>\n",
              "      <td>85</td>\n",
              "      <td>92</td>\n",
              "      <td>93</td>\n",
              "      <td>90</td>\n",
              "      <td>81</td>\n",
              "      <td>76</td>\n",
              "      <td>85</td>\n",
              "      <td>88</td>\n",
              "    </tr>\n",
              "    <tr>\n",
              "      <th>1</th>\n",
              "      <td>Lionel Messi</td>\n",
              "      <td>Argentina</td>\n",
              "      <td>RW</td>\n",
              "      <td>RW</td>\n",
              "      <td>170</td>\n",
              "      <td>72</td>\n",
              "      <td>Left</td>\n",
              "      <td>29</td>\n",
              "      <td>Medium / Medium</td>\n",
              "      <td>4</td>\n",
              "      <td>...</td>\n",
              "      <td>90</td>\n",
              "      <td>68</td>\n",
              "      <td>71</td>\n",
              "      <td>85</td>\n",
              "      <td>95</td>\n",
              "      <td>88</td>\n",
              "      <td>89</td>\n",
              "      <td>90</td>\n",
              "      <td>74</td>\n",
              "      <td>85</td>\n",
              "    </tr>\n",
              "    <tr>\n",
              "      <th>2</th>\n",
              "      <td>Neymar</td>\n",
              "      <td>Brazil</td>\n",
              "      <td>LW</td>\n",
              "      <td>LW</td>\n",
              "      <td>174</td>\n",
              "      <td>68</td>\n",
              "      <td>Right</td>\n",
              "      <td>25</td>\n",
              "      <td>High / Medium</td>\n",
              "      <td>5</td>\n",
              "      <td>...</td>\n",
              "      <td>96</td>\n",
              "      <td>61</td>\n",
              "      <td>62</td>\n",
              "      <td>78</td>\n",
              "      <td>89</td>\n",
              "      <td>77</td>\n",
              "      <td>79</td>\n",
              "      <td>84</td>\n",
              "      <td>81</td>\n",
              "      <td>83</td>\n",
              "    </tr>\n",
              "    <tr>\n",
              "      <th>3</th>\n",
              "      <td>Luis Suárez</td>\n",
              "      <td>Uruguay</td>\n",
              "      <td>LS</td>\n",
              "      <td>ST</td>\n",
              "      <td>182</td>\n",
              "      <td>85</td>\n",
              "      <td>Right</td>\n",
              "      <td>30</td>\n",
              "      <td>High / Medium</td>\n",
              "      <td>4</td>\n",
              "      <td>...</td>\n",
              "      <td>86</td>\n",
              "      <td>69</td>\n",
              "      <td>77</td>\n",
              "      <td>87</td>\n",
              "      <td>94</td>\n",
              "      <td>86</td>\n",
              "      <td>86</td>\n",
              "      <td>84</td>\n",
              "      <td>85</td>\n",
              "      <td>88</td>\n",
              "    </tr>\n",
              "    <tr>\n",
              "      <th>4</th>\n",
              "      <td>Manuel Neuer</td>\n",
              "      <td>Germany</td>\n",
              "      <td>GK</td>\n",
              "      <td>GK</td>\n",
              "      <td>193</td>\n",
              "      <td>92</td>\n",
              "      <td>Right</td>\n",
              "      <td>31</td>\n",
              "      <td>Medium / Medium</td>\n",
              "      <td>4</td>\n",
              "      <td>...</td>\n",
              "      <td>52</td>\n",
              "      <td>78</td>\n",
              "      <td>25</td>\n",
              "      <td>25</td>\n",
              "      <td>13</td>\n",
              "      <td>16</td>\n",
              "      <td>14</td>\n",
              "      <td>11</td>\n",
              "      <td>47</td>\n",
              "      <td>11</td>\n",
              "    </tr>\n",
              "  </tbody>\n",
              "</table>\n",
              "<p>5 rows × 39 columns</p>\n",
              "</div>\n",
              "    <div class=\"colab-df-buttons\">\n",
              "\n",
              "  <div class=\"colab-df-container\">\n",
              "    <button class=\"colab-df-convert\" onclick=\"convertToInteractive('df-41078d24-d147-4ad4-8198-03eacc6c6f04')\"\n",
              "            title=\"Convert this dataframe to an interactive table.\"\n",
              "            style=\"display:none;\">\n",
              "\n",
              "  <svg xmlns=\"http://www.w3.org/2000/svg\" height=\"24px\" viewBox=\"0 -960 960 960\">\n",
              "    <path d=\"M120-120v-720h720v720H120Zm60-500h600v-160H180v160Zm220 220h160v-160H400v160Zm0 220h160v-160H400v160ZM180-400h160v-160H180v160Zm440 0h160v-160H620v160ZM180-180h160v-160H180v160Zm440 0h160v-160H620v160Z\"/>\n",
              "  </svg>\n",
              "    </button>\n",
              "\n",
              "  <style>\n",
              "    .colab-df-container {\n",
              "      display:flex;\n",
              "      gap: 12px;\n",
              "    }\n",
              "\n",
              "    .colab-df-convert {\n",
              "      background-color: #E8F0FE;\n",
              "      border: none;\n",
              "      border-radius: 50%;\n",
              "      cursor: pointer;\n",
              "      display: none;\n",
              "      fill: #1967D2;\n",
              "      height: 32px;\n",
              "      padding: 0 0 0 0;\n",
              "      width: 32px;\n",
              "    }\n",
              "\n",
              "    .colab-df-convert:hover {\n",
              "      background-color: #E2EBFA;\n",
              "      box-shadow: 0px 1px 2px rgba(60, 64, 67, 0.3), 0px 1px 3px 1px rgba(60, 64, 67, 0.15);\n",
              "      fill: #174EA6;\n",
              "    }\n",
              "\n",
              "    .colab-df-buttons div {\n",
              "      margin-bottom: 4px;\n",
              "    }\n",
              "\n",
              "    [theme=dark] .colab-df-convert {\n",
              "      background-color: #3B4455;\n",
              "      fill: #D2E3FC;\n",
              "    }\n",
              "\n",
              "    [theme=dark] .colab-df-convert:hover {\n",
              "      background-color: #434B5C;\n",
              "      box-shadow: 0px 1px 3px 1px rgba(0, 0, 0, 0.15);\n",
              "      filter: drop-shadow(0px 1px 2px rgba(0, 0, 0, 0.3));\n",
              "      fill: #FFFFFF;\n",
              "    }\n",
              "  </style>\n",
              "\n",
              "    <script>\n",
              "      const buttonEl =\n",
              "        document.querySelector('#df-41078d24-d147-4ad4-8198-03eacc6c6f04 button.colab-df-convert');\n",
              "      buttonEl.style.display =\n",
              "        google.colab.kernel.accessAllowed ? 'block' : 'none';\n",
              "\n",
              "      async function convertToInteractive(key) {\n",
              "        const element = document.querySelector('#df-41078d24-d147-4ad4-8198-03eacc6c6f04');\n",
              "        const dataTable =\n",
              "          await google.colab.kernel.invokeFunction('convertToInteractive',\n",
              "                                                    [key], {});\n",
              "        if (!dataTable) return;\n",
              "\n",
              "        const docLinkHtml = 'Like what you see? Visit the ' +\n",
              "          '<a target=\"_blank\" href=https://colab.research.google.com/notebooks/data_table.ipynb>data table notebook</a>'\n",
              "          + ' to learn more about interactive tables.';\n",
              "        element.innerHTML = '';\n",
              "        dataTable['output_type'] = 'display_data';\n",
              "        await google.colab.output.renderOutput(dataTable, element);\n",
              "        const docLink = document.createElement('div');\n",
              "        docLink.innerHTML = docLinkHtml;\n",
              "        element.appendChild(docLink);\n",
              "      }\n",
              "    </script>\n",
              "  </div>\n",
              "\n",
              "\n",
              "    <div id=\"df-728a9507-9086-4eb9-a806-b56ae6b3ff3d\">\n",
              "      <button class=\"colab-df-quickchart\" onclick=\"quickchart('df-728a9507-9086-4eb9-a806-b56ae6b3ff3d')\"\n",
              "                title=\"Suggest charts\"\n",
              "                style=\"display:none;\">\n",
              "\n",
              "<svg xmlns=\"http://www.w3.org/2000/svg\" height=\"24px\"viewBox=\"0 0 24 24\"\n",
              "     width=\"24px\">\n",
              "    <g>\n",
              "        <path d=\"M19 3H5c-1.1 0-2 .9-2 2v14c0 1.1.9 2 2 2h14c1.1 0 2-.9 2-2V5c0-1.1-.9-2-2-2zM9 17H7v-7h2v7zm4 0h-2V7h2v10zm4 0h-2v-4h2v4z\"/>\n",
              "    </g>\n",
              "</svg>\n",
              "      </button>\n",
              "\n",
              "<style>\n",
              "  .colab-df-quickchart {\n",
              "      --bg-color: #E8F0FE;\n",
              "      --fill-color: #1967D2;\n",
              "      --hover-bg-color: #E2EBFA;\n",
              "      --hover-fill-color: #174EA6;\n",
              "      --disabled-fill-color: #AAA;\n",
              "      --disabled-bg-color: #DDD;\n",
              "  }\n",
              "\n",
              "  [theme=dark] .colab-df-quickchart {\n",
              "      --bg-color: #3B4455;\n",
              "      --fill-color: #D2E3FC;\n",
              "      --hover-bg-color: #434B5C;\n",
              "      --hover-fill-color: #FFFFFF;\n",
              "      --disabled-bg-color: #3B4455;\n",
              "      --disabled-fill-color: #666;\n",
              "  }\n",
              "\n",
              "  .colab-df-quickchart {\n",
              "    background-color: var(--bg-color);\n",
              "    border: none;\n",
              "    border-radius: 50%;\n",
              "    cursor: pointer;\n",
              "    display: none;\n",
              "    fill: var(--fill-color);\n",
              "    height: 32px;\n",
              "    padding: 0;\n",
              "    width: 32px;\n",
              "  }\n",
              "\n",
              "  .colab-df-quickchart:hover {\n",
              "    background-color: var(--hover-bg-color);\n",
              "    box-shadow: 0 1px 2px rgba(60, 64, 67, 0.3), 0 1px 3px 1px rgba(60, 64, 67, 0.15);\n",
              "    fill: var(--button-hover-fill-color);\n",
              "  }\n",
              "\n",
              "  .colab-df-quickchart-complete:disabled,\n",
              "  .colab-df-quickchart-complete:disabled:hover {\n",
              "    background-color: var(--disabled-bg-color);\n",
              "    fill: var(--disabled-fill-color);\n",
              "    box-shadow: none;\n",
              "  }\n",
              "\n",
              "  .colab-df-spinner {\n",
              "    border: 2px solid var(--fill-color);\n",
              "    border-color: transparent;\n",
              "    border-bottom-color: var(--fill-color);\n",
              "    animation:\n",
              "      spin 1s steps(1) infinite;\n",
              "  }\n",
              "\n",
              "  @keyframes spin {\n",
              "    0% {\n",
              "      border-color: transparent;\n",
              "      border-bottom-color: var(--fill-color);\n",
              "      border-left-color: var(--fill-color);\n",
              "    }\n",
              "    20% {\n",
              "      border-color: transparent;\n",
              "      border-left-color: var(--fill-color);\n",
              "      border-top-color: var(--fill-color);\n",
              "    }\n",
              "    30% {\n",
              "      border-color: transparent;\n",
              "      border-left-color: var(--fill-color);\n",
              "      border-top-color: var(--fill-color);\n",
              "      border-right-color: var(--fill-color);\n",
              "    }\n",
              "    40% {\n",
              "      border-color: transparent;\n",
              "      border-right-color: var(--fill-color);\n",
              "      border-top-color: var(--fill-color);\n",
              "    }\n",
              "    60% {\n",
              "      border-color: transparent;\n",
              "      border-right-color: var(--fill-color);\n",
              "    }\n",
              "    80% {\n",
              "      border-color: transparent;\n",
              "      border-right-color: var(--fill-color);\n",
              "      border-bottom-color: var(--fill-color);\n",
              "    }\n",
              "    90% {\n",
              "      border-color: transparent;\n",
              "      border-bottom-color: var(--fill-color);\n",
              "    }\n",
              "  }\n",
              "</style>\n",
              "\n",
              "      <script>\n",
              "        async function quickchart(key) {\n",
              "          const quickchartButtonEl =\n",
              "            document.querySelector('#' + key + ' button');\n",
              "          quickchartButtonEl.disabled = true;  // To prevent multiple clicks.\n",
              "          quickchartButtonEl.classList.add('colab-df-spinner');\n",
              "          try {\n",
              "            const charts = await google.colab.kernel.invokeFunction(\n",
              "                'suggestCharts', [key], {});\n",
              "          } catch (error) {\n",
              "            console.error('Error during call to suggestCharts:', error);\n",
              "          }\n",
              "          quickchartButtonEl.classList.remove('colab-df-spinner');\n",
              "          quickchartButtonEl.classList.add('colab-df-quickchart-complete');\n",
              "        }\n",
              "        (() => {\n",
              "          let quickchartButtonEl =\n",
              "            document.querySelector('#df-728a9507-9086-4eb9-a806-b56ae6b3ff3d button');\n",
              "          quickchartButtonEl.style.display =\n",
              "            google.colab.kernel.accessAllowed ? 'block' : 'none';\n",
              "        })();\n",
              "      </script>\n",
              "    </div>\n",
              "\n",
              "    </div>\n",
              "  </div>\n"
            ],
            "application/vnd.google.colaboratory.intrinsic+json": {
              "type": "dataframe",
              "variable_name": "df"
            }
          },
          "metadata": {},
          "execution_count": 2
        }
      ],
      "source": [
        "df = pd.read_csv(\"stats_players.csv\")\n",
        "df.head()"
      ]
    },
    {
      "cell_type": "markdown",
      "metadata": {
        "id": "JdcucZhp-M_0"
      },
      "source": [
        "## 1. Predicción de Seleccionados Nacionales [14 puntos]"
      ]
    },
    {
      "cell_type": "markdown",
      "metadata": {
        "id": "Qfre1YsSDqla"
      },
      "source": [
        "### 1.1 Preprocesamiento [5 puntos]"
      ]
    },
    {
      "cell_type": "markdown",
      "metadata": {
        "id": "IR00u4HTDtxv"
      },
      "source": [
        "Tareas:\n",
        "\n",
        "1. Genere los labels para la clasificación binaria en una variable llamada `label`. Para esto, trabaje sobre el atributo `National_Position` suponiendo que los valores nulos son jugadores no seleccionados para representar a su país. [Sin puntaje]\n",
        "\n",
        "2. Hecho esto, ¿cuántos se tienen ejemplos por cada clase? Comente lo que observa. [1 punto]\n",
        "\n",
        "3. Genere un `ColumnTransformer` en donde especifique las transformaciones que hay que realizar para cada columna (por ejemplo StandarScaler, MinMaxScaler, OneHotEncoder, etc...) para que puedan ser utilizadas correctamente por el modelo predictivo y guárdelo una variable llamada `col_transformer`. [2 puntos]\n",
        "\n",
        "4. Comente y justifique las transformaciones elegidas sobre cada una de las variables (para esto utilice el material `Player_Stats_Report.html` que viene en el zip del lab), al igual que las transformaciones aplicadas. [2 puntos]"
      ]
    },
    {
      "cell_type": "markdown",
      "metadata": {
        "id": "tgAk0kbPjEsx"
      },
      "source": [
        "**Respuesta:**"
      ]
    },
    {
      "cell_type": "code",
      "execution_count": 3,
      "metadata": {
        "id": "JhC2sZj9dSI1",
        "colab": {
          "base_uri": "https://localhost:8080/",
          "height": 178
        },
        "outputId": "26547c75-2b2c-446d-d9ec-74304043b21f"
      },
      "outputs": [
        {
          "output_type": "execute_result",
          "data": {
            "text/plain": [
              "label\n",
              "0    16513\n",
              "1     1075\n",
              "Name: count, dtype: int64"
            ],
            "text/html": [
              "<div>\n",
              "<style scoped>\n",
              "    .dataframe tbody tr th:only-of-type {\n",
              "        vertical-align: middle;\n",
              "    }\n",
              "\n",
              "    .dataframe tbody tr th {\n",
              "        vertical-align: top;\n",
              "    }\n",
              "\n",
              "    .dataframe thead th {\n",
              "        text-align: right;\n",
              "    }\n",
              "</style>\n",
              "<table border=\"1\" class=\"dataframe\">\n",
              "  <thead>\n",
              "    <tr style=\"text-align: right;\">\n",
              "      <th></th>\n",
              "      <th>count</th>\n",
              "    </tr>\n",
              "    <tr>\n",
              "      <th>label</th>\n",
              "      <th></th>\n",
              "    </tr>\n",
              "  </thead>\n",
              "  <tbody>\n",
              "    <tr>\n",
              "      <th>0</th>\n",
              "      <td>16513</td>\n",
              "    </tr>\n",
              "    <tr>\n",
              "      <th>1</th>\n",
              "      <td>1075</td>\n",
              "    </tr>\n",
              "  </tbody>\n",
              "</table>\n",
              "</div><br><label><b>dtype:</b> int64</label>"
            ]
          },
          "metadata": {},
          "execution_count": 3
        }
      ],
      "source": [
        "df[\"label\"] = (~df.National_Position.isna()).astype(int)\n",
        "df.label.value_counts()"
      ]
    },
    {
      "cell_type": "markdown",
      "metadata": {
        "id": "S-EjiJ86OyPw"
      },
      "source": [
        "**Comentario**: Se puede observar que la etiqueta queda ampliamente desbalanceada, con la mayoría de jugadores correspondiendo a la etiqueta negativa (no son seleccionados).\n",
        "\n"
      ]
    },
    {
      "cell_type": "code",
      "execution_count": 9,
      "metadata": {
        "scrolled": true,
        "colab": {
          "base_uri": "https://localhost:8080/",
          "height": 461
        },
        "id": "2Vm9YSvFOyPw",
        "outputId": "27331220-cf53-47bb-9384-78e5d467a465"
      },
      "outputs": [
        {
          "output_type": "execute_result",
          "data": {
            "text/plain": [
              "       Nationality_Afghanistan  Nationality_Albania  Nationality_Algeria  \\\n",
              "0                          0.0                  0.0                  0.0   \n",
              "1                          0.0                  0.0                  0.0   \n",
              "2                          0.0                  0.0                  0.0   \n",
              "3                          0.0                  0.0                  0.0   \n",
              "4                          0.0                  0.0                  0.0   \n",
              "...                        ...                  ...                  ...   \n",
              "17583                      0.0                  0.0                  0.0   \n",
              "17584                      0.0                  0.0                  0.0   \n",
              "17585                      0.0                  0.0                  0.0   \n",
              "17586                      0.0                  0.0                  0.0   \n",
              "17587                      0.0                  0.0                  0.0   \n",
              "\n",
              "       Nationality_Angola  Nationality_Antigua & Barbuda  \\\n",
              "0                     0.0                            0.0   \n",
              "1                     0.0                            0.0   \n",
              "2                     0.0                            0.0   \n",
              "3                     0.0                            0.0   \n",
              "4                     0.0                            0.0   \n",
              "...                   ...                            ...   \n",
              "17583                 0.0                            0.0   \n",
              "17584                 0.0                            0.0   \n",
              "17585                 0.0                            0.0   \n",
              "17586                 0.0                            0.0   \n",
              "17587                 0.0                            0.0   \n",
              "\n",
              "       Nationality_Argentina  Nationality_Armenia  Nationality_Aruba  \\\n",
              "0                        0.0                  0.0                0.0   \n",
              "1                        1.0                  0.0                0.0   \n",
              "2                        0.0                  0.0                0.0   \n",
              "3                        0.0                  0.0                0.0   \n",
              "4                        0.0                  0.0                0.0   \n",
              "...                      ...                  ...                ...   \n",
              "17583                    0.0                  0.0                0.0   \n",
              "17584                    0.0                  0.0                0.0   \n",
              "17585                    0.0                  0.0                0.0   \n",
              "17586                    0.0                  0.0                0.0   \n",
              "17587                    0.0                  0.0                0.0   \n",
              "\n",
              "       Nationality_Australia  Nationality_Austria  ...  Agility  Jumping  \\\n",
              "0                        0.0                  0.0  ...       90       95   \n",
              "1                        0.0                  0.0  ...       90       68   \n",
              "2                        0.0                  0.0  ...       96       61   \n",
              "3                        0.0                  0.0  ...       86       69   \n",
              "4                        0.0                  0.0  ...       52       78   \n",
              "...                      ...                  ...  ...      ...      ...   \n",
              "17583                    0.0                  0.0  ...       27       56   \n",
              "17584                    0.0                  0.0  ...       28       53   \n",
              "17585                    0.0                  0.0  ...       54       61   \n",
              "17586                    0.0                  0.0  ...       34       48   \n",
              "17587                    0.0                  0.0  ...       38       51   \n",
              "\n",
              "       Heading  Shot_Power  Finishing  Long_Shots  Curve  Freekick_Accuracy  \\\n",
              "0           85          92         93          90     81                 76   \n",
              "1           71          85         95          88     89                 90   \n",
              "2           62          78         89          77     79                 84   \n",
              "3           77          87         94          86     86                 84   \n",
              "4           25          25         13          16     14                 11   \n",
              "...        ...         ...        ...         ...    ...                ...   \n",
              "17583       14          16         13          13     11                 13   \n",
              "17584       12          17         12          11     12                 13   \n",
              "17585       41          44         28          42     35                 36   \n",
              "17586       15          23         14          12     13                 12   \n",
              "17587       12          13         11          16     12                 11   \n",
              "\n",
              "       Penalties  Volleys  \n",
              "0             85       88  \n",
              "1             74       85  \n",
              "2             81       83  \n",
              "3             85       88  \n",
              "4             47       11  \n",
              "...          ...      ...  \n",
              "17583         15       12  \n",
              "17584         16       12  \n",
              "17585         42       37  \n",
              "17586         24       12  \n",
              "17587         22       12  \n",
              "\n",
              "[17588 rows x 242 columns]"
            ],
            "text/html": [
              "\n",
              "  <div id=\"df-5571f713-32b3-4428-83cf-3a80e069c349\" class=\"colab-df-container\">\n",
              "    <div>\n",
              "<style scoped>\n",
              "    .dataframe tbody tr th:only-of-type {\n",
              "        vertical-align: middle;\n",
              "    }\n",
              "\n",
              "    .dataframe tbody tr th {\n",
              "        vertical-align: top;\n",
              "    }\n",
              "\n",
              "    .dataframe thead th {\n",
              "        text-align: right;\n",
              "    }\n",
              "</style>\n",
              "<table border=\"1\" class=\"dataframe\">\n",
              "  <thead>\n",
              "    <tr style=\"text-align: right;\">\n",
              "      <th></th>\n",
              "      <th>Nationality_Afghanistan</th>\n",
              "      <th>Nationality_Albania</th>\n",
              "      <th>Nationality_Algeria</th>\n",
              "      <th>Nationality_Angola</th>\n",
              "      <th>Nationality_Antigua &amp; Barbuda</th>\n",
              "      <th>Nationality_Argentina</th>\n",
              "      <th>Nationality_Armenia</th>\n",
              "      <th>Nationality_Aruba</th>\n",
              "      <th>Nationality_Australia</th>\n",
              "      <th>Nationality_Austria</th>\n",
              "      <th>...</th>\n",
              "      <th>Agility</th>\n",
              "      <th>Jumping</th>\n",
              "      <th>Heading</th>\n",
              "      <th>Shot_Power</th>\n",
              "      <th>Finishing</th>\n",
              "      <th>Long_Shots</th>\n",
              "      <th>Curve</th>\n",
              "      <th>Freekick_Accuracy</th>\n",
              "      <th>Penalties</th>\n",
              "      <th>Volleys</th>\n",
              "    </tr>\n",
              "  </thead>\n",
              "  <tbody>\n",
              "    <tr>\n",
              "      <th>0</th>\n",
              "      <td>0.0</td>\n",
              "      <td>0.0</td>\n",
              "      <td>0.0</td>\n",
              "      <td>0.0</td>\n",
              "      <td>0.0</td>\n",
              "      <td>0.0</td>\n",
              "      <td>0.0</td>\n",
              "      <td>0.0</td>\n",
              "      <td>0.0</td>\n",
              "      <td>0.0</td>\n",
              "      <td>...</td>\n",
              "      <td>90</td>\n",
              "      <td>95</td>\n",
              "      <td>85</td>\n",
              "      <td>92</td>\n",
              "      <td>93</td>\n",
              "      <td>90</td>\n",
              "      <td>81</td>\n",
              "      <td>76</td>\n",
              "      <td>85</td>\n",
              "      <td>88</td>\n",
              "    </tr>\n",
              "    <tr>\n",
              "      <th>1</th>\n",
              "      <td>0.0</td>\n",
              "      <td>0.0</td>\n",
              "      <td>0.0</td>\n",
              "      <td>0.0</td>\n",
              "      <td>0.0</td>\n",
              "      <td>1.0</td>\n",
              "      <td>0.0</td>\n",
              "      <td>0.0</td>\n",
              "      <td>0.0</td>\n",
              "      <td>0.0</td>\n",
              "      <td>...</td>\n",
              "      <td>90</td>\n",
              "      <td>68</td>\n",
              "      <td>71</td>\n",
              "      <td>85</td>\n",
              "      <td>95</td>\n",
              "      <td>88</td>\n",
              "      <td>89</td>\n",
              "      <td>90</td>\n",
              "      <td>74</td>\n",
              "      <td>85</td>\n",
              "    </tr>\n",
              "    <tr>\n",
              "      <th>2</th>\n",
              "      <td>0.0</td>\n",
              "      <td>0.0</td>\n",
              "      <td>0.0</td>\n",
              "      <td>0.0</td>\n",
              "      <td>0.0</td>\n",
              "      <td>0.0</td>\n",
              "      <td>0.0</td>\n",
              "      <td>0.0</td>\n",
              "      <td>0.0</td>\n",
              "      <td>0.0</td>\n",
              "      <td>...</td>\n",
              "      <td>96</td>\n",
              "      <td>61</td>\n",
              "      <td>62</td>\n",
              "      <td>78</td>\n",
              "      <td>89</td>\n",
              "      <td>77</td>\n",
              "      <td>79</td>\n",
              "      <td>84</td>\n",
              "      <td>81</td>\n",
              "      <td>83</td>\n",
              "    </tr>\n",
              "    <tr>\n",
              "      <th>3</th>\n",
              "      <td>0.0</td>\n",
              "      <td>0.0</td>\n",
              "      <td>0.0</td>\n",
              "      <td>0.0</td>\n",
              "      <td>0.0</td>\n",
              "      <td>0.0</td>\n",
              "      <td>0.0</td>\n",
              "      <td>0.0</td>\n",
              "      <td>0.0</td>\n",
              "      <td>0.0</td>\n",
              "      <td>...</td>\n",
              "      <td>86</td>\n",
              "      <td>69</td>\n",
              "      <td>77</td>\n",
              "      <td>87</td>\n",
              "      <td>94</td>\n",
              "      <td>86</td>\n",
              "      <td>86</td>\n",
              "      <td>84</td>\n",
              "      <td>85</td>\n",
              "      <td>88</td>\n",
              "    </tr>\n",
              "    <tr>\n",
              "      <th>4</th>\n",
              "      <td>0.0</td>\n",
              "      <td>0.0</td>\n",
              "      <td>0.0</td>\n",
              "      <td>0.0</td>\n",
              "      <td>0.0</td>\n",
              "      <td>0.0</td>\n",
              "      <td>0.0</td>\n",
              "      <td>0.0</td>\n",
              "      <td>0.0</td>\n",
              "      <td>0.0</td>\n",
              "      <td>...</td>\n",
              "      <td>52</td>\n",
              "      <td>78</td>\n",
              "      <td>25</td>\n",
              "      <td>25</td>\n",
              "      <td>13</td>\n",
              "      <td>16</td>\n",
              "      <td>14</td>\n",
              "      <td>11</td>\n",
              "      <td>47</td>\n",
              "      <td>11</td>\n",
              "    </tr>\n",
              "    <tr>\n",
              "      <th>...</th>\n",
              "      <td>...</td>\n",
              "      <td>...</td>\n",
              "      <td>...</td>\n",
              "      <td>...</td>\n",
              "      <td>...</td>\n",
              "      <td>...</td>\n",
              "      <td>...</td>\n",
              "      <td>...</td>\n",
              "      <td>...</td>\n",
              "      <td>...</td>\n",
              "      <td>...</td>\n",
              "      <td>...</td>\n",
              "      <td>...</td>\n",
              "      <td>...</td>\n",
              "      <td>...</td>\n",
              "      <td>...</td>\n",
              "      <td>...</td>\n",
              "      <td>...</td>\n",
              "      <td>...</td>\n",
              "      <td>...</td>\n",
              "      <td>...</td>\n",
              "    </tr>\n",
              "    <tr>\n",
              "      <th>17583</th>\n",
              "      <td>0.0</td>\n",
              "      <td>0.0</td>\n",
              "      <td>0.0</td>\n",
              "      <td>0.0</td>\n",
              "      <td>0.0</td>\n",
              "      <td>0.0</td>\n",
              "      <td>0.0</td>\n",
              "      <td>0.0</td>\n",
              "      <td>0.0</td>\n",
              "      <td>0.0</td>\n",
              "      <td>...</td>\n",
              "      <td>27</td>\n",
              "      <td>56</td>\n",
              "      <td>14</td>\n",
              "      <td>16</td>\n",
              "      <td>13</td>\n",
              "      <td>13</td>\n",
              "      <td>11</td>\n",
              "      <td>13</td>\n",
              "      <td>15</td>\n",
              "      <td>12</td>\n",
              "    </tr>\n",
              "    <tr>\n",
              "      <th>17584</th>\n",
              "      <td>0.0</td>\n",
              "      <td>0.0</td>\n",
              "      <td>0.0</td>\n",
              "      <td>0.0</td>\n",
              "      <td>0.0</td>\n",
              "      <td>0.0</td>\n",
              "      <td>0.0</td>\n",
              "      <td>0.0</td>\n",
              "      <td>0.0</td>\n",
              "      <td>0.0</td>\n",
              "      <td>...</td>\n",
              "      <td>28</td>\n",
              "      <td>53</td>\n",
              "      <td>12</td>\n",
              "      <td>17</td>\n",
              "      <td>12</td>\n",
              "      <td>11</td>\n",
              "      <td>12</td>\n",
              "      <td>13</td>\n",
              "      <td>16</td>\n",
              "      <td>12</td>\n",
              "    </tr>\n",
              "    <tr>\n",
              "      <th>17585</th>\n",
              "      <td>0.0</td>\n",
              "      <td>0.0</td>\n",
              "      <td>0.0</td>\n",
              "      <td>0.0</td>\n",
              "      <td>0.0</td>\n",
              "      <td>0.0</td>\n",
              "      <td>0.0</td>\n",
              "      <td>0.0</td>\n",
              "      <td>0.0</td>\n",
              "      <td>0.0</td>\n",
              "      <td>...</td>\n",
              "      <td>54</td>\n",
              "      <td>61</td>\n",
              "      <td>41</td>\n",
              "      <td>44</td>\n",
              "      <td>28</td>\n",
              "      <td>42</td>\n",
              "      <td>35</td>\n",
              "      <td>36</td>\n",
              "      <td>42</td>\n",
              "      <td>37</td>\n",
              "    </tr>\n",
              "    <tr>\n",
              "      <th>17586</th>\n",
              "      <td>0.0</td>\n",
              "      <td>0.0</td>\n",
              "      <td>0.0</td>\n",
              "      <td>0.0</td>\n",
              "      <td>0.0</td>\n",
              "      <td>0.0</td>\n",
              "      <td>0.0</td>\n",
              "      <td>0.0</td>\n",
              "      <td>0.0</td>\n",
              "      <td>0.0</td>\n",
              "      <td>...</td>\n",
              "      <td>34</td>\n",
              "      <td>48</td>\n",
              "      <td>15</td>\n",
              "      <td>23</td>\n",
              "      <td>14</td>\n",
              "      <td>12</td>\n",
              "      <td>13</td>\n",
              "      <td>12</td>\n",
              "      <td>24</td>\n",
              "      <td>12</td>\n",
              "    </tr>\n",
              "    <tr>\n",
              "      <th>17587</th>\n",
              "      <td>0.0</td>\n",
              "      <td>0.0</td>\n",
              "      <td>0.0</td>\n",
              "      <td>0.0</td>\n",
              "      <td>0.0</td>\n",
              "      <td>0.0</td>\n",
              "      <td>0.0</td>\n",
              "      <td>0.0</td>\n",
              "      <td>0.0</td>\n",
              "      <td>0.0</td>\n",
              "      <td>...</td>\n",
              "      <td>38</td>\n",
              "      <td>51</td>\n",
              "      <td>12</td>\n",
              "      <td>13</td>\n",
              "      <td>11</td>\n",
              "      <td>16</td>\n",
              "      <td>12</td>\n",
              "      <td>11</td>\n",
              "      <td>22</td>\n",
              "      <td>12</td>\n",
              "    </tr>\n",
              "  </tbody>\n",
              "</table>\n",
              "<p>17588 rows × 242 columns</p>\n",
              "</div>\n",
              "    <div class=\"colab-df-buttons\">\n",
              "\n",
              "  <div class=\"colab-df-container\">\n",
              "    <button class=\"colab-df-convert\" onclick=\"convertToInteractive('df-5571f713-32b3-4428-83cf-3a80e069c349')\"\n",
              "            title=\"Convert this dataframe to an interactive table.\"\n",
              "            style=\"display:none;\">\n",
              "\n",
              "  <svg xmlns=\"http://www.w3.org/2000/svg\" height=\"24px\" viewBox=\"0 -960 960 960\">\n",
              "    <path d=\"M120-120v-720h720v720H120Zm60-500h600v-160H180v160Zm220 220h160v-160H400v160Zm0 220h160v-160H400v160ZM180-400h160v-160H180v160Zm440 0h160v-160H620v160ZM180-180h160v-160H180v160Zm440 0h160v-160H620v160Z\"/>\n",
              "  </svg>\n",
              "    </button>\n",
              "\n",
              "  <style>\n",
              "    .colab-df-container {\n",
              "      display:flex;\n",
              "      gap: 12px;\n",
              "    }\n",
              "\n",
              "    .colab-df-convert {\n",
              "      background-color: #E8F0FE;\n",
              "      border: none;\n",
              "      border-radius: 50%;\n",
              "      cursor: pointer;\n",
              "      display: none;\n",
              "      fill: #1967D2;\n",
              "      height: 32px;\n",
              "      padding: 0 0 0 0;\n",
              "      width: 32px;\n",
              "    }\n",
              "\n",
              "    .colab-df-convert:hover {\n",
              "      background-color: #E2EBFA;\n",
              "      box-shadow: 0px 1px 2px rgba(60, 64, 67, 0.3), 0px 1px 3px 1px rgba(60, 64, 67, 0.15);\n",
              "      fill: #174EA6;\n",
              "    }\n",
              "\n",
              "    .colab-df-buttons div {\n",
              "      margin-bottom: 4px;\n",
              "    }\n",
              "\n",
              "    [theme=dark] .colab-df-convert {\n",
              "      background-color: #3B4455;\n",
              "      fill: #D2E3FC;\n",
              "    }\n",
              "\n",
              "    [theme=dark] .colab-df-convert:hover {\n",
              "      background-color: #434B5C;\n",
              "      box-shadow: 0px 1px 3px 1px rgba(0, 0, 0, 0.15);\n",
              "      filter: drop-shadow(0px 1px 2px rgba(0, 0, 0, 0.3));\n",
              "      fill: #FFFFFF;\n",
              "    }\n",
              "  </style>\n",
              "\n",
              "    <script>\n",
              "      const buttonEl =\n",
              "        document.querySelector('#df-5571f713-32b3-4428-83cf-3a80e069c349 button.colab-df-convert');\n",
              "      buttonEl.style.display =\n",
              "        google.colab.kernel.accessAllowed ? 'block' : 'none';\n",
              "\n",
              "      async function convertToInteractive(key) {\n",
              "        const element = document.querySelector('#df-5571f713-32b3-4428-83cf-3a80e069c349');\n",
              "        const dataTable =\n",
              "          await google.colab.kernel.invokeFunction('convertToInteractive',\n",
              "                                                    [key], {});\n",
              "        if (!dataTable) return;\n",
              "\n",
              "        const docLinkHtml = 'Like what you see? Visit the ' +\n",
              "          '<a target=\"_blank\" href=https://colab.research.google.com/notebooks/data_table.ipynb>data table notebook</a>'\n",
              "          + ' to learn more about interactive tables.';\n",
              "        element.innerHTML = '';\n",
              "        dataTable['output_type'] = 'display_data';\n",
              "        await google.colab.output.renderOutput(dataTable, element);\n",
              "        const docLink = document.createElement('div');\n",
              "        docLink.innerHTML = docLinkHtml;\n",
              "        element.appendChild(docLink);\n",
              "      }\n",
              "    </script>\n",
              "  </div>\n",
              "\n",
              "\n",
              "    <div id=\"df-802c23cf-27c0-4b38-941c-49770b2dba69\">\n",
              "      <button class=\"colab-df-quickchart\" onclick=\"quickchart('df-802c23cf-27c0-4b38-941c-49770b2dba69')\"\n",
              "                title=\"Suggest charts\"\n",
              "                style=\"display:none;\">\n",
              "\n",
              "<svg xmlns=\"http://www.w3.org/2000/svg\" height=\"24px\"viewBox=\"0 0 24 24\"\n",
              "     width=\"24px\">\n",
              "    <g>\n",
              "        <path d=\"M19 3H5c-1.1 0-2 .9-2 2v14c0 1.1.9 2 2 2h14c1.1 0 2-.9 2-2V5c0-1.1-.9-2-2-2zM9 17H7v-7h2v7zm4 0h-2V7h2v10zm4 0h-2v-4h2v4z\"/>\n",
              "    </g>\n",
              "</svg>\n",
              "      </button>\n",
              "\n",
              "<style>\n",
              "  .colab-df-quickchart {\n",
              "      --bg-color: #E8F0FE;\n",
              "      --fill-color: #1967D2;\n",
              "      --hover-bg-color: #E2EBFA;\n",
              "      --hover-fill-color: #174EA6;\n",
              "      --disabled-fill-color: #AAA;\n",
              "      --disabled-bg-color: #DDD;\n",
              "  }\n",
              "\n",
              "  [theme=dark] .colab-df-quickchart {\n",
              "      --bg-color: #3B4455;\n",
              "      --fill-color: #D2E3FC;\n",
              "      --hover-bg-color: #434B5C;\n",
              "      --hover-fill-color: #FFFFFF;\n",
              "      --disabled-bg-color: #3B4455;\n",
              "      --disabled-fill-color: #666;\n",
              "  }\n",
              "\n",
              "  .colab-df-quickchart {\n",
              "    background-color: var(--bg-color);\n",
              "    border: none;\n",
              "    border-radius: 50%;\n",
              "    cursor: pointer;\n",
              "    display: none;\n",
              "    fill: var(--fill-color);\n",
              "    height: 32px;\n",
              "    padding: 0;\n",
              "    width: 32px;\n",
              "  }\n",
              "\n",
              "  .colab-df-quickchart:hover {\n",
              "    background-color: var(--hover-bg-color);\n",
              "    box-shadow: 0 1px 2px rgba(60, 64, 67, 0.3), 0 1px 3px 1px rgba(60, 64, 67, 0.15);\n",
              "    fill: var(--button-hover-fill-color);\n",
              "  }\n",
              "\n",
              "  .colab-df-quickchart-complete:disabled,\n",
              "  .colab-df-quickchart-complete:disabled:hover {\n",
              "    background-color: var(--disabled-bg-color);\n",
              "    fill: var(--disabled-fill-color);\n",
              "    box-shadow: none;\n",
              "  }\n",
              "\n",
              "  .colab-df-spinner {\n",
              "    border: 2px solid var(--fill-color);\n",
              "    border-color: transparent;\n",
              "    border-bottom-color: var(--fill-color);\n",
              "    animation:\n",
              "      spin 1s steps(1) infinite;\n",
              "  }\n",
              "\n",
              "  @keyframes spin {\n",
              "    0% {\n",
              "      border-color: transparent;\n",
              "      border-bottom-color: var(--fill-color);\n",
              "      border-left-color: var(--fill-color);\n",
              "    }\n",
              "    20% {\n",
              "      border-color: transparent;\n",
              "      border-left-color: var(--fill-color);\n",
              "      border-top-color: var(--fill-color);\n",
              "    }\n",
              "    30% {\n",
              "      border-color: transparent;\n",
              "      border-left-color: var(--fill-color);\n",
              "      border-top-color: var(--fill-color);\n",
              "      border-right-color: var(--fill-color);\n",
              "    }\n",
              "    40% {\n",
              "      border-color: transparent;\n",
              "      border-right-color: var(--fill-color);\n",
              "      border-top-color: var(--fill-color);\n",
              "    }\n",
              "    60% {\n",
              "      border-color: transparent;\n",
              "      border-right-color: var(--fill-color);\n",
              "    }\n",
              "    80% {\n",
              "      border-color: transparent;\n",
              "      border-right-color: var(--fill-color);\n",
              "      border-bottom-color: var(--fill-color);\n",
              "    }\n",
              "    90% {\n",
              "      border-color: transparent;\n",
              "      border-bottom-color: var(--fill-color);\n",
              "    }\n",
              "  }\n",
              "</style>\n",
              "\n",
              "      <script>\n",
              "        async function quickchart(key) {\n",
              "          const quickchartButtonEl =\n",
              "            document.querySelector('#' + key + ' button');\n",
              "          quickchartButtonEl.disabled = true;  // To prevent multiple clicks.\n",
              "          quickchartButtonEl.classList.add('colab-df-spinner');\n",
              "          try {\n",
              "            const charts = await google.colab.kernel.invokeFunction(\n",
              "                'suggestCharts', [key], {});\n",
              "          } catch (error) {\n",
              "            console.error('Error during call to suggestCharts:', error);\n",
              "          }\n",
              "          quickchartButtonEl.classList.remove('colab-df-spinner');\n",
              "          quickchartButtonEl.classList.add('colab-df-quickchart-complete');\n",
              "        }\n",
              "        (() => {\n",
              "          let quickchartButtonEl =\n",
              "            document.querySelector('#df-802c23cf-27c0-4b38-941c-49770b2dba69 button');\n",
              "          quickchartButtonEl.style.display =\n",
              "            google.colab.kernel.accessAllowed ? 'block' : 'none';\n",
              "        })();\n",
              "      </script>\n",
              "    </div>\n",
              "\n",
              "  <div id=\"id_96a1af9c-a719-4961-9c34-f60cc0aea4f7\">\n",
              "    <style>\n",
              "      .colab-df-generate {\n",
              "        background-color: #E8F0FE;\n",
              "        border: none;\n",
              "        border-radius: 50%;\n",
              "        cursor: pointer;\n",
              "        display: none;\n",
              "        fill: #1967D2;\n",
              "        height: 32px;\n",
              "        padding: 0 0 0 0;\n",
              "        width: 32px;\n",
              "      }\n",
              "\n",
              "      .colab-df-generate:hover {\n",
              "        background-color: #E2EBFA;\n",
              "        box-shadow: 0px 1px 2px rgba(60, 64, 67, 0.3), 0px 1px 3px 1px rgba(60, 64, 67, 0.15);\n",
              "        fill: #174EA6;\n",
              "      }\n",
              "\n",
              "      [theme=dark] .colab-df-generate {\n",
              "        background-color: #3B4455;\n",
              "        fill: #D2E3FC;\n",
              "      }\n",
              "\n",
              "      [theme=dark] .colab-df-generate:hover {\n",
              "        background-color: #434B5C;\n",
              "        box-shadow: 0px 1px 3px 1px rgba(0, 0, 0, 0.15);\n",
              "        filter: drop-shadow(0px 1px 2px rgba(0, 0, 0, 0.3));\n",
              "        fill: #FFFFFF;\n",
              "      }\n",
              "    </style>\n",
              "    <button class=\"colab-df-generate\" onclick=\"generateWithVariable('df_preprocesado')\"\n",
              "            title=\"Generate code using this dataframe.\"\n",
              "            style=\"display:none;\">\n",
              "\n",
              "  <svg xmlns=\"http://www.w3.org/2000/svg\" height=\"24px\"viewBox=\"0 0 24 24\"\n",
              "       width=\"24px\">\n",
              "    <path d=\"M7,19H8.4L18.45,9,17,7.55,7,17.6ZM5,21V16.75L18.45,3.32a2,2,0,0,1,2.83,0l1.4,1.43a1.91,1.91,0,0,1,.58,1.4,1.91,1.91,0,0,1-.58,1.4L9.25,21ZM18.45,9,17,7.55Zm-12,3A5.31,5.31,0,0,0,4.9,8.1,5.31,5.31,0,0,0,1,6.5,5.31,5.31,0,0,0,4.9,4.9,5.31,5.31,0,0,0,6.5,1,5.31,5.31,0,0,0,8.1,4.9,5.31,5.31,0,0,0,12,6.5,5.46,5.46,0,0,0,6.5,12Z\"/>\n",
              "  </svg>\n",
              "    </button>\n",
              "    <script>\n",
              "      (() => {\n",
              "      const buttonEl =\n",
              "        document.querySelector('#id_96a1af9c-a719-4961-9c34-f60cc0aea4f7 button.colab-df-generate');\n",
              "      buttonEl.style.display =\n",
              "        google.colab.kernel.accessAllowed ? 'block' : 'none';\n",
              "\n",
              "      buttonEl.onclick = () => {\n",
              "        google.colab.notebook.generateWithVariable('df_preprocesado');\n",
              "      }\n",
              "      })();\n",
              "    </script>\n",
              "  </div>\n",
              "\n",
              "    </div>\n",
              "  </div>\n"
            ],
            "application/vnd.google.colaboratory.intrinsic+json": {
              "type": "dataframe",
              "variable_name": "df_preprocesado"
            }
          },
          "metadata": {},
          "execution_count": 9
        }
      ],
      "source": [
        "categorical_variables = [\n",
        "    \"Nationality\",\n",
        "    \"Club_Position\",\n",
        "    \"Preffered_Foot\",\n",
        "    \"Work_Rate\",\n",
        "    \"Weak_foot\",\n",
        "    \"Skill_Moves\",\n",
        "    ]\n",
        "numerical_variables = df.columns.drop(categorical_variables + [\"Name\", \"label\",\"National_Position\"]\n",
        "                                     )\n",
        "preprocessing_transformer = ColumnTransformer(\n",
        "    transformers=[\n",
        "        ('categorical', OneHotEncoder(sparse_output=False, handle_unknown='infrequent_if_exist'),  categorical_variables),\n",
        "        ('numerical', \"passthrough\", numerical_variables),\n",
        "\n",
        "    ], verbose_feature_names_out=False)\n",
        "\n",
        "preprocessing_transformer.set_output(transform='pandas')\n",
        "\n",
        "df_preprocesado = preprocessing_transformer.fit_transform(df)\n",
        "df_preprocesado"
      ]
    },
    {
      "cell_type": "markdown",
      "metadata": {
        "id": "dzywBVHZOyPx"
      },
      "source": [
        "**Comentario**: Existen dos tipos de variables en el dataset que serán tratadas de forma diferenciada; numéricas y categóricas.\n",
        "Sobre las variables categóricas se aplica un One Hot Encoder principalmente con el fin de eliminar\n",
        "la jerarquía de orden entre los valores de las variables.\n",
        "\n",
        "Mientras que sobre las numéricas no se aplica ningún transformador, dado principalmente\n",
        "a que la distribución de todas las variables se encuentra en el mismo rango (0-100) según\n",
        "lo que se puede observar en `Player_Stats_Report.html` y a que el escalamiento\n",
        "y normalización de variables en algoritmos de boosting no es necesario y puede\n",
        "afectar negativamente las métricas.\n",
        "\n",
        "**Se elimina variable National_Position para evitar data leakage.**\n",
        "\n"
      ]
    },
    {
      "cell_type": "markdown",
      "metadata": {
        "id": "Bv1HOfcNEPF4"
      },
      "source": [
        "### 1.2 Entrenamiento [3 puntos]"
      ]
    },
    {
      "cell_type": "markdown",
      "metadata": {
        "id": "whPkuXTUBvB0"
      },
      "source": [
        "Ahora, vamos a entrenar los pipelines generados en los pasos anteriores. Para esto, debe realizar las siguientes tareas:\n",
        "\n",
        "1. Separe los datos de entrenamiento en un conjunto de entrenamiento y de prueba  (la proporción queda a su juicio). En este paso, seleccione los ejemplos de forma aleatoria e intente mantener la distribución original de labels de cada clase en los conjuntos de prueba/entrenamiento. (vea la documentación de `train_test_split`). [1 puntos]\n",
        "\n",
        "\n",
        "2. Defina un pipeline llamado `pipeline_xgboost` y otro llamado `pipeline_lightgbm`. Estos pipelines deben tener el mismo ColumnTransformer definido en la sección de preprocesamiento, pero deben variar los clasificadores de acuerdo al nombre de cada pipeline. [1 puntos]\n",
        "\n",
        "3. Entrene los pipelines. [1 punto]\n",
        "\n"
      ]
    },
    {
      "cell_type": "markdown",
      "metadata": {
        "id": "kbadONFtjGnE"
      },
      "source": [
        "**Respuesta:**"
      ]
    },
    {
      "cell_type": "code",
      "execution_count": 10,
      "metadata": {
        "id": "hIXtTPkZOyPy"
      },
      "outputs": [],
      "source": [
        "X, y = df.drop(columns=\"label\"), df.label\n",
        "X_train, X_test, y_train, y_test = train_test_split(X, y, test_size=0.3, stratify=y, random_state=RANDOM_STATE)"
      ]
    },
    {
      "cell_type": "code",
      "execution_count": 65,
      "metadata": {
        "id": "lLtlXGTPdWAV"
      },
      "outputs": [],
      "source": [
        "pipes_dict = {\n",
        "    \"XGBOOST\": Pipeline([\n",
        "    ('Preprocessing', preprocessing_transformer),\n",
        "    ('Modelo', XGBClassifier())\n",
        "\n",
        "]),\n",
        "    \"LIGHTGBM\": Pipeline([\n",
        "    ('Preprocessing', preprocessing_transformer),\n",
        "    ('Modelo', LGBMClassifier(verbose=-1, predict_disable_shape_check=True))\n",
        "\n",
        "]),\n",
        "}\n",
        "models_dict = {\n",
        "    name: pipe.fit(X_train, y_train)\n",
        "    for name, pipe in pipes_dict.items()\n",
        "}\n"
      ]
    },
    {
      "cell_type": "markdown",
      "metadata": {
        "id": "poc9HSNBFeKO"
      },
      "source": [
        "### 1.3 Resultados [6 puntos]"
      ]
    },
    {
      "cell_type": "markdown",
      "metadata": {
        "id": "tGGCj8YtFil1"
      },
      "source": [
        "1. Calcule las métricas accuracy, precisión y recall de la clase positiva (la que indica que un jugador es seleccionado nacional) para evaluar el rendimiento de los distintos modelos. Verifique sus resultados usando `classification_report`. [2 puntos]\n",
        "\n",
        "2. Explique qué implican los valores de accuracy, precisión y recall de la clase positiva (la que indica que un jugador es seleccionado nacional) y cómo influye la cantidad de ejemplos por clase en los resultados obtenidos. [2 puntos]\n",
        "\n",
        "3. Explique qué métrica le parece más adecuada y concluya qué modelo tiene un mejor desempeño. [2 puntos]"
      ]
    },
    {
      "cell_type": "markdown",
      "metadata": {
        "id": "A1hkVFdujJTi"
      },
      "source": [
        "**Respuesta:**"
      ]
    },
    {
      "cell_type": "code",
      "execution_count": 66,
      "metadata": {
        "id": "enhO9GKlOyPz"
      },
      "outputs": [],
      "source": [
        "pred_dict  = {\n",
        "    name: model.predict(X_test)\n",
        "    for name, model in models_dict.items()\n",
        "}"
      ]
    },
    {
      "cell_type": "code",
      "execution_count": 67,
      "metadata": {
        "colab": {
          "base_uri": "https://localhost:8080/"
        },
        "id": "J6IG2wGIOyPz",
        "outputId": "b25e1cd5-549d-417c-9a8f-6759526c47d0"
      },
      "outputs": [
        {
          "output_type": "stream",
          "name": "stdout",
          "text": [
            "\n",
            "Métricas XGBOOST:\n",
            "\tAccuracy: 0.9454235361000568 \n",
            "\tPrecision: 0.6047904191616766 \n",
            "\tRecall: 0.3126934984520124\n",
            "Métricas LIGHTGBM:\n",
            "\tAccuracy: 0.9492135683153307 \n",
            "\tPrecision: 0.6896551724137931 \n",
            "\tRecall: 0.30959752321981426\n"
          ]
        }
      ],
      "source": [
        "def accuracy(y_pred):\n",
        "    return (len(y_test) -(y_pred - y_test).abs().sum()) / len(y_test)\n",
        "\n",
        "def TP(y_pred):\n",
        "    return ((y_pred == 1) & (y_test-y_pred == 0)).sum()\n",
        "\n",
        "def FP(y_pred):\n",
        "    return ((y_pred == 1) & (y_test-y_pred != 0)).sum()\n",
        "\n",
        "def FN(y_pred):\n",
        "    return ((y_pred == 0) & (y_test-y_pred != 0)).sum()\n",
        "\n",
        "print(\"\".join([\n",
        "    (lambda name, y_pred:\n",
        "     f\"\\nMétricas {name}:\\n\"\n",
        "     + f\"\\tAccuracy: {accuracy(y_pred)} \\n\"\n",
        "     + f\"\\tPrecision: {TP(y_pred) / (TP(y_pred) + FP(y_pred))} \\n\"\n",
        "     + f\"\\tRecall: {TP(y_pred) / (TP(y_pred) + FN(y_pred))}\"\n",
        "    )(name, y_pred) for name, y_pred in pred_dict.items()\n",
        "]))"
      ]
    },
    {
      "cell_type": "code",
      "execution_count": 68,
      "metadata": {
        "id": "QNmI_tbbdQte",
        "colab": {
          "base_uri": "https://localhost:8080/"
        },
        "outputId": "5a19ee46-dc27-41b6-e6f0-10670e34a0bd"
      },
      "outputs": [
        {
          "output_type": "stream",
          "name": "stdout",
          "text": [
            "Clasification report para XGBOOST:\n",
            "              precision    recall  f1-score   support\n",
            "\n",
            "           0       0.96      0.99      0.97      4954\n",
            "           1       0.60      0.31      0.41       323\n",
            "\n",
            "    accuracy                           0.95      5277\n",
            "   macro avg       0.78      0.65      0.69      5277\n",
            "weighted avg       0.94      0.95      0.94      5277\n",
            "\n",
            "Clasification report para LIGHTGBM:\n",
            "              precision    recall  f1-score   support\n",
            "\n",
            "           0       0.96      0.99      0.97      4954\n",
            "           1       0.69      0.31      0.43       323\n",
            "\n",
            "    accuracy                           0.95      5277\n",
            "   macro avg       0.82      0.65      0.70      5277\n",
            "weighted avg       0.94      0.95      0.94      5277\n",
            "\n"
          ]
        }
      ],
      "source": [
        "for name, y_pred in pred_dict.items():\n",
        "    print(f\"Clasification report para {name}:\\n\"+ classification_report(y_test, y_pred))\n"
      ]
    },
    {
      "cell_type": "markdown",
      "metadata": {
        "id": "c0AJWul8OyP0"
      },
      "source": [
        "**Respuesta**: Como queremos que todos los jugadores comprados terminen seleccionados y no gastar dinero en falsos positivos, queremos disminuir los falsos positivos y por tanto nos interesa optimizar para la métrica precision y LightGBM es el mejor modelo."
      ]
    },
    {
      "cell_type": "markdown",
      "metadata": {
        "id": "uy5VMU6ae_g6"
      },
      "source": [
        "## 2. Predicción de posiciones de jugadores [4 puntos]"
      ]
    },
    {
      "cell_type": "markdown",
      "metadata": {
        "id": "I6rSnAesfOm3"
      },
      "source": [
        "En una nueva jornada de desmesuradas transacciones deportivas, Renacín escuchó a sus colegas discutir acerca de que el precio de cada jugador depende en gran medida de la posición en la cancha en la que juega. Y además, que hay bastantes jugadores nuevos que no tienen muy claro en que posición verdaderamente brillarían, por lo que actualmente puede que actualmente estén jugando en posiciones sub-optimas.\n",
        "\n",
        "Viendo que los resultados del primer análisis no son tan esperanzadores, el corporeo los comanda a cambiar su tarea: ahora, les solicita que construyan un clasificador enfocado en predecir la mejor posición de los jugadores en la cancha según sus características.\n",
        "\n",
        "Para lograr esto, primero, les pide que etiqueten de la siguiente manera los valores que aparecen en el atributo `Club_Position`, pidiendo que agrupen los valores en los siguientes grupos:\n",
        "\n",
        "**Nota**:  Renacín les recalca que **no deben utilizar los valores ```Sub``` y ```Res``` de esta columna**.\n",
        "\n",
        "```python\n",
        "ataque = ['ST', 'CF']\n",
        "central_ataque = ['RW', 'CAM', 'LW']\n",
        "central = ['RM', 'CM', 'LM']\n",
        "central_defensa = ['RWB', 'CDM', 'LWB']\n",
        "defensa = ['RB', 'CB', 'LB']\n",
        "arquero = ['GK']\n",
        "```\n",
        "\n",
        "La elección del clasificador se justificar en base a la siguiente [guía](https://scikit-learn.org/stable/tutorial/machine_learning_map/index.html) y se deben comentar los resultados obtenidos en la clasificación.\n",
        "\n",
        "**Tareas:** [1 punto por tarea]\n",
        "\n",
        "1. En un nuevo dataframe, aplique las etiquetas descritas anteriormente en cada uno de los valores señalados en esta sección y guárdelos en la variable `label`.\n",
        "2. Cuente cuántos por clase quedan.\n",
        "3. Entrene el nuevo pipeline y ejecute una evaluación de este.  \n",
        "4. Comente los resultados obtenidos."
      ]
    },
    {
      "cell_type": "markdown",
      "metadata": {
        "id": "sBmSaWh8i2MI"
      },
      "source": [
        "**Respuesta:**"
      ]
    },
    {
      "cell_type": "code",
      "execution_count": null,
      "metadata": {
        "id": "Ir_7zMh2i1vg",
        "outputId": "4e5e404e-8c35-4f47-bba4-015c24cc9e42"
      },
      "outputs": [
        {
          "data": {
            "text/plain": [
              "label\n",
              "defensa            88\n",
              "arquero            80\n",
              "central            70\n",
              "central_ataque     65\n",
              "ataque             42\n",
              "central_defensa    21\n",
              "Name: count, dtype: int64"
            ]
          },
          "execution_count": 55,
          "metadata": {},
          "output_type": "execute_result"
        }
      ],
      "source": [
        "dict_mapeo = {\n",
        "'ST' : \"ataque\",\n",
        "'CF' : \"ataque\",\n",
        "'RW' : \"central_ataque\",\n",
        "'CAM' : \"central_ataque\",\n",
        "'LW' : \"central_ataque\",\n",
        "'RM' : \"central\",\n",
        "'CM' : \"central\",\n",
        "'LM' : \"central\",\n",
        "'RWB' : \"central_defensa\",\n",
        "'CDM' : \"central_defensa\",\n",
        "'LWB' : \"central_defensa\",\n",
        "'RB' : \"defensa\",\n",
        "'CB' : \"defensa\",\n",
        "'LB' : \"defensa\",\n",
        "'GK' : \"arquero\",\n",
        "}\n",
        "\n",
        "df2 = df.copy().assign(label=df2.Club_Position.map(dict_mapeo)).dropna()\n",
        "df2.label.value_counts()\n",
        "# Sobran 'Sub', 'Res', 'RCM', 'LCB', 'LCM', 'RS', 'RCB', 'LDM', 'RDM', 'LF', 'LAM', 'LS', 'RF', 'RAM'"
      ]
    },
    {
      "cell_type": "markdown",
      "metadata": {
        "id": "SxkJtZXtOyQE"
      },
      "source": [
        "Siguiendo la guía se escoge el clasificador **Linear SVC** (>50 sambles -> Predicting a category -> labeled data -> <100K samples -> Linear SVC).\n",
        "\n",
        "Para este clasificador basado en distancias es importante que escalemos las variables numéricas y se elimina la columna National_Position pues puede actuar como corrupción de datos."
      ]
    },
    {
      "cell_type": "code",
      "execution_count": null,
      "metadata": {
        "id": "HtElxxpyOyQF"
      },
      "outputs": [],
      "source": [
        "categorical_variables2 = [\n",
        "    \"Nationality\",\n",
        "    \"Preffered_Foot\",\n",
        "    \"Work_Rate\",\n",
        "    \"Weak_foot\",\n",
        "    \"Skill_Moves\",\n",
        "    ]\n",
        "numerical_variables2 = df.columns.drop(categorical_variables + [\"Name\", \"label\",\"Club_Position\",\"National_Position\"])\n",
        "\n",
        "preprocessing_transformer2 = ColumnTransformer(\n",
        "    transformers=[\n",
        "        ('categorical', OneHotEncoder(sparse_output=False, handle_unknown='infrequent_if_exist'),  categorical_variables2),\n",
        "        ('numerical', RobustScaler(), numerical_variables2),\n",
        "    ], verbose_feature_names_out=False)\n",
        "\n",
        "preprocessing_transformer2.set_output(transform='pandas')\n",
        "\n",
        "pipeline_linearSVC = Pipeline([\n",
        "    ('Preprocessing', preprocessing_transformer2),\n",
        "    ('Modelo', LinearSVC())\n",
        "\n",
        "])"
      ]
    },
    {
      "cell_type": "code",
      "execution_count": null,
      "metadata": {
        "id": "Ybl_8MxWOyQF",
        "outputId": "1522e923-d270-4829-8a14-559940b6bec3"
      },
      "outputs": [
        {
          "name": "stdout",
          "output_type": "stream",
          "text": [
            "                 precision    recall  f1-score   support\n",
            "\n",
            "        arquero       1.00      1.00      1.00        24\n",
            "         ataque       0.77      0.67      0.71        15\n",
            "        central       0.10      0.11      0.10        19\n",
            " central_ataque       0.30      0.32      0.31        19\n",
            "central_defensa       0.33      0.29      0.31         7\n",
            "        defensa       0.73      0.73      0.73        26\n",
            "\n",
            "       accuracy                           0.57       110\n",
            "      macro avg       0.54      0.52      0.53       110\n",
            "   weighted avg       0.59      0.57      0.58       110\n",
            "\n"
          ]
        }
      ],
      "source": [
        "X = df2.drop(columns=\"label\")\n",
        "y = df2.label\n",
        "X_train, X_test, y_train, y_test = train_test_split(X, y, test_size=0.3, stratify=y, random_state=RANDOM_STATE)\n",
        "\n",
        "model_linearSVC = pipeline_linearSVC.fit(X_train, y_train)\n",
        "\n",
        "y_predict_linearSVC = pipeline_linearSVC.predict(X_test)\n",
        "print(classification_report(y_predict_linearSVC, y_test))"
      ]
    },
    {
      "cell_type": "markdown",
      "metadata": {
        "id": "jqguD5enOyQF"
      },
      "source": [
        "El modelo logra malos resultados en general (identificables claramente en el bajo valor de accuracy), en particular para las clases `central`, `central_ataque` y `central_defensa` obtiene los peores resultados, sin embargo obtiene métricas perfectas para `arquero`.\n",
        "\n",
        "Los resultados no se condicen con el tamaño de las clases, sin embargo hacen sentido con lo que uno esperaría, siendo la posición de arquero la posición más diferente al resto, el modelo la identifica sin ningún problema, mientras que tiene especial dificultad en diferenciar los distintos tipos de centrales, lo cual es esperable. En cuanto a las clases `ataque` y `defensa`, que son distinguibles entre sí y el resto, pero no tanto como la posición de `arquero`, se obtienen métricas esperables en un algoritmo de clasificación.\n"
      ]
    },
    {
      "cell_type": "markdown",
      "metadata": {
        "id": "9bL2m8nNojXM"
      },
      "source": [
        "## 3. Predicciones de Seleccionados Nacionales para el Jere Klein [30 puntos]"
      ]
    },
    {
      "cell_type": "markdown",
      "metadata": {
        "id": "_2XmRsJdsEh_"
      },
      "source": [
        "<center>\n",
        "<img src='https://www.radioactiva.cl/wp-content/uploads/2024/04/Jere-Klein-1-768x432.webp' width=500 />"
      ]
    },
    {
      "cell_type": "markdown",
      "metadata": {
        "id": "AgmUoVDsqUPu"
      },
      "source": [
        "Después de alcanzar la fama como cantante urbano, Jere Klein decide explorar una nueva faceta. Con su amor por el fútbol y convencido de que los artistas urbanos poseen un talento y versatilidad excepcionales, Jere se embarca en un proyecto innovador: desarrollar un sistema de inteligencia artificial capaz de identificar a jugadores que tienen potencial para convertirse en futbolistas profesionales. Su teoría es que muchos artistas del género urbano chileno, con sus habilidades únicas y su disciplina, podrían destacarse también en el deporte. Con este sistema, Jere espera no solo abrir nuevas oportunidades para sus colegas artistas, sino también demostrar la amplia gama de talentos que pueden ofrecer."
      ]
    },
    {
      "cell_type": "markdown",
      "metadata": {
        "id": "rD8pQ5Zfq8dE"
      },
      "source": [
        "### 3.1 ¿Qué modelo de árbol es más de \"pana\"? [10 puntos]"
      ]
    },
    {
      "cell_type": "markdown",
      "metadata": {
        "id": "zB-KUA4g99eo"
      },
      "source": [
        "<center>\n",
        "<img src='https://64.media.tumblr.com/39189215a7d3d96823cb359f35b44e05/tumblr_psmrhrR3Xw1qf5hjqo4_540.gif' width=300 />"
      ]
    },
    {
      "cell_type": "markdown",
      "metadata": {
        "id": "uL-moVhB9vPH"
      },
      "source": [
        "\n",
        "**Tareas**\n",
        "\n",
        "\n",
        "1. Considerando el la variable llamada `label` creada en la sección 1.1. Para determinar cuál modelo de árbol sería más adecuado para la tarea en cuestión, utilice PyCaret. Este deberá centrarse exclusivamente en modelos de tipo árbol. Jere ha especificado que busca un modelo que tome decisiones rápidamente y que tenga una baja tasa de falsos positivos, ya que planea invertir en estos jugadores. [3 puntos]\n",
        "\n",
        "Para la comparación, utilice los siguientes modelos:\n",
        "\n",
        "```python\n",
        "['et', 'rf', 'dt', 'xgboost', 'lightgbm', 'catboost']\n",
        "```\n",
        "\n",
        "2. Explique en brevemente que son los modelos de la siguiente lista `['et', 'rf', 'dt']` y como funcionan. [3 punto]\n",
        "\n",
        "3. Tras realizar la comparación de modelos, seleccione aquel que muestre el mejor rendimiento en términos de velocidad y precisión, especialmente en la reducción de falsos positivos. Utilice la función `evaluate_model` de PyCaret para revisar y analizar los resultados obtenidos en los siguientes aspectos:\n",
        "\n",
        "  - **Confusión Matrix**: ¿Cómo se encuentran la tasa de verdaderos positivos y verdaderos negativos?\n",
        "  - **Threshold**: ¿Es acaso el umbral por defecto del modelo el mejor para las predicciones?\n",
        "  - **Feature Importance**: ¿Cuáles son las variables con mejor desempeño? ¿A qué podría deberse esto?\n",
        "  - **Learning Curve**: ¿El modelo presenta algún problema?\n",
        "\n",
        "  [4 puntos]"
      ]
    },
    {
      "cell_type": "code",
      "execution_count": 4,
      "metadata": {
        "id": "kUCjOjsEYUXL",
        "colab": {
          "base_uri": "https://localhost:8080/",
          "height": 991,
          "referenced_widgets": [
            "78df87f470da41f5b21afd53026d17a9",
            "5dea38f0e949487c87e5b40fe919793d",
            "9929092bd84e423caf04bb3a0bd8a22f",
            "0d4661dde5e24a2882e116ff0da8168f",
            "b749e6537c604cc49004a7b75832afb4",
            "9e5387bc7bf24ff1aa75311951bbdcde",
            "bf7f93e29f714eca91f0a2e18f6e0de1",
            "b77ca1bbdd5a4f31bd00c237eff1c389",
            "8e2362adcb7b44dca13c710187bd6a2f",
            "c19a836d24834fc39b0562224f9edb41",
            "4d77fdb8556a42e59efd318ed30a8bbb"
          ]
        },
        "outputId": "2b2e4b5b-a3ce-4263-bff6-52f3878a242e"
      },
      "outputs": [
        {
          "output_type": "display_data",
          "data": {
            "text/plain": [
              "<pandas.io.formats.style.Styler at 0x7f414db13090>"
            ],
            "text/html": [
              "<style type=\"text/css\">\n",
              "#T_ddffc_row10_col1 {\n",
              "  background-color: lightgreen;\n",
              "}\n",
              "</style>\n",
              "<table id=\"T_ddffc\" class=\"dataframe\">\n",
              "  <thead>\n",
              "    <tr>\n",
              "      <th class=\"blank level0\" >&nbsp;</th>\n",
              "      <th id=\"T_ddffc_level0_col0\" class=\"col_heading level0 col0\" >Description</th>\n",
              "      <th id=\"T_ddffc_level0_col1\" class=\"col_heading level0 col1\" >Value</th>\n",
              "    </tr>\n",
              "  </thead>\n",
              "  <tbody>\n",
              "    <tr>\n",
              "      <th id=\"T_ddffc_level0_row0\" class=\"row_heading level0 row0\" >0</th>\n",
              "      <td id=\"T_ddffc_row0_col0\" class=\"data row0 col0\" >Session id</td>\n",
              "      <td id=\"T_ddffc_row0_col1\" class=\"data row0 col1\" >6413</td>\n",
              "    </tr>\n",
              "    <tr>\n",
              "      <th id=\"T_ddffc_level0_row1\" class=\"row_heading level0 row1\" >1</th>\n",
              "      <td id=\"T_ddffc_row1_col0\" class=\"data row1 col0\" >Target</td>\n",
              "      <td id=\"T_ddffc_row1_col1\" class=\"data row1 col1\" >label</td>\n",
              "    </tr>\n",
              "    <tr>\n",
              "      <th id=\"T_ddffc_level0_row2\" class=\"row_heading level0 row2\" >2</th>\n",
              "      <td id=\"T_ddffc_row2_col0\" class=\"data row2 col0\" >Target type</td>\n",
              "      <td id=\"T_ddffc_row2_col1\" class=\"data row2 col1\" >Binary</td>\n",
              "    </tr>\n",
              "    <tr>\n",
              "      <th id=\"T_ddffc_level0_row3\" class=\"row_heading level0 row3\" >3</th>\n",
              "      <td id=\"T_ddffc_row3_col0\" class=\"data row3 col0\" >Original data shape</td>\n",
              "      <td id=\"T_ddffc_row3_col1\" class=\"data row3 col1\" >(17588, 40)</td>\n",
              "    </tr>\n",
              "    <tr>\n",
              "      <th id=\"T_ddffc_level0_row4\" class=\"row_heading level0 row4\" >4</th>\n",
              "      <td id=\"T_ddffc_row4_col0\" class=\"data row4 col0\" >Transformed data shape</td>\n",
              "      <td id=\"T_ddffc_row4_col1\" class=\"data row4 col1\" >(17588, 48)</td>\n",
              "    </tr>\n",
              "    <tr>\n",
              "      <th id=\"T_ddffc_level0_row5\" class=\"row_heading level0 row5\" >5</th>\n",
              "      <td id=\"T_ddffc_row5_col0\" class=\"data row5 col0\" >Transformed train set shape</td>\n",
              "      <td id=\"T_ddffc_row5_col1\" class=\"data row5 col1\" >(12311, 48)</td>\n",
              "    </tr>\n",
              "    <tr>\n",
              "      <th id=\"T_ddffc_level0_row6\" class=\"row_heading level0 row6\" >6</th>\n",
              "      <td id=\"T_ddffc_row6_col0\" class=\"data row6 col0\" >Transformed test set shape</td>\n",
              "      <td id=\"T_ddffc_row6_col1\" class=\"data row6 col1\" >(5277, 48)</td>\n",
              "    </tr>\n",
              "    <tr>\n",
              "      <th id=\"T_ddffc_level0_row7\" class=\"row_heading level0 row7\" >7</th>\n",
              "      <td id=\"T_ddffc_row7_col0\" class=\"data row7 col0\" >Numeric features</td>\n",
              "      <td id=\"T_ddffc_row7_col1\" class=\"data row7 col1\" >33</td>\n",
              "    </tr>\n",
              "    <tr>\n",
              "      <th id=\"T_ddffc_level0_row8\" class=\"row_heading level0 row8\" >8</th>\n",
              "      <td id=\"T_ddffc_row8_col0\" class=\"data row8 col0\" >Categorical features</td>\n",
              "      <td id=\"T_ddffc_row8_col1\" class=\"data row8 col1\" >6</td>\n",
              "    </tr>\n",
              "    <tr>\n",
              "      <th id=\"T_ddffc_level0_row9\" class=\"row_heading level0 row9\" >9</th>\n",
              "      <td id=\"T_ddffc_row9_col0\" class=\"data row9 col0\" >Rows with missing values</td>\n",
              "      <td id=\"T_ddffc_row9_col1\" class=\"data row9 col1\" >93.9%</td>\n",
              "    </tr>\n",
              "    <tr>\n",
              "      <th id=\"T_ddffc_level0_row10\" class=\"row_heading level0 row10\" >10</th>\n",
              "      <td id=\"T_ddffc_row10_col0\" class=\"data row10 col0\" >Preprocess</td>\n",
              "      <td id=\"T_ddffc_row10_col1\" class=\"data row10 col1\" >True</td>\n",
              "    </tr>\n",
              "    <tr>\n",
              "      <th id=\"T_ddffc_level0_row11\" class=\"row_heading level0 row11\" >11</th>\n",
              "      <td id=\"T_ddffc_row11_col0\" class=\"data row11 col0\" >Imputation type</td>\n",
              "      <td id=\"T_ddffc_row11_col1\" class=\"data row11 col1\" >simple</td>\n",
              "    </tr>\n",
              "    <tr>\n",
              "      <th id=\"T_ddffc_level0_row12\" class=\"row_heading level0 row12\" >12</th>\n",
              "      <td id=\"T_ddffc_row12_col0\" class=\"data row12 col0\" >Numeric imputation</td>\n",
              "      <td id=\"T_ddffc_row12_col1\" class=\"data row12 col1\" >mean</td>\n",
              "    </tr>\n",
              "    <tr>\n",
              "      <th id=\"T_ddffc_level0_row13\" class=\"row_heading level0 row13\" >13</th>\n",
              "      <td id=\"T_ddffc_row13_col0\" class=\"data row13 col0\" >Categorical imputation</td>\n",
              "      <td id=\"T_ddffc_row13_col1\" class=\"data row13 col1\" >mode</td>\n",
              "    </tr>\n",
              "    <tr>\n",
              "      <th id=\"T_ddffc_level0_row14\" class=\"row_heading level0 row14\" >14</th>\n",
              "      <td id=\"T_ddffc_row14_col0\" class=\"data row14 col0\" >Maximum one-hot encoding</td>\n",
              "      <td id=\"T_ddffc_row14_col1\" class=\"data row14 col1\" >25</td>\n",
              "    </tr>\n",
              "    <tr>\n",
              "      <th id=\"T_ddffc_level0_row15\" class=\"row_heading level0 row15\" >15</th>\n",
              "      <td id=\"T_ddffc_row15_col0\" class=\"data row15 col0\" >Encoding method</td>\n",
              "      <td id=\"T_ddffc_row15_col1\" class=\"data row15 col1\" >None</td>\n",
              "    </tr>\n",
              "    <tr>\n",
              "      <th id=\"T_ddffc_level0_row16\" class=\"row_heading level0 row16\" >16</th>\n",
              "      <td id=\"T_ddffc_row16_col0\" class=\"data row16 col0\" >Fold Generator</td>\n",
              "      <td id=\"T_ddffc_row16_col1\" class=\"data row16 col1\" >StratifiedKFold</td>\n",
              "    </tr>\n",
              "    <tr>\n",
              "      <th id=\"T_ddffc_level0_row17\" class=\"row_heading level0 row17\" >17</th>\n",
              "      <td id=\"T_ddffc_row17_col0\" class=\"data row17 col0\" >Fold Number</td>\n",
              "      <td id=\"T_ddffc_row17_col1\" class=\"data row17 col1\" >10</td>\n",
              "    </tr>\n",
              "    <tr>\n",
              "      <th id=\"T_ddffc_level0_row18\" class=\"row_heading level0 row18\" >18</th>\n",
              "      <td id=\"T_ddffc_row18_col0\" class=\"data row18 col0\" >CPU Jobs</td>\n",
              "      <td id=\"T_ddffc_row18_col1\" class=\"data row18 col1\" >-1</td>\n",
              "    </tr>\n",
              "    <tr>\n",
              "      <th id=\"T_ddffc_level0_row19\" class=\"row_heading level0 row19\" >19</th>\n",
              "      <td id=\"T_ddffc_row19_col0\" class=\"data row19 col0\" >Use GPU</td>\n",
              "      <td id=\"T_ddffc_row19_col1\" class=\"data row19 col1\" >False</td>\n",
              "    </tr>\n",
              "    <tr>\n",
              "      <th id=\"T_ddffc_level0_row20\" class=\"row_heading level0 row20\" >20</th>\n",
              "      <td id=\"T_ddffc_row20_col0\" class=\"data row20 col0\" >Log Experiment</td>\n",
              "      <td id=\"T_ddffc_row20_col1\" class=\"data row20 col1\" >False</td>\n",
              "    </tr>\n",
              "    <tr>\n",
              "      <th id=\"T_ddffc_level0_row21\" class=\"row_heading level0 row21\" >21</th>\n",
              "      <td id=\"T_ddffc_row21_col0\" class=\"data row21 col0\" >Experiment Name</td>\n",
              "      <td id=\"T_ddffc_row21_col1\" class=\"data row21 col1\" >clf-default-name</td>\n",
              "    </tr>\n",
              "    <tr>\n",
              "      <th id=\"T_ddffc_level0_row22\" class=\"row_heading level0 row22\" >22</th>\n",
              "      <td id=\"T_ddffc_row22_col0\" class=\"data row22 col0\" >USI</td>\n",
              "      <td id=\"T_ddffc_row22_col1\" class=\"data row22 col1\" >4134</td>\n",
              "    </tr>\n",
              "  </tbody>\n",
              "</table>\n"
            ]
          },
          "metadata": {}
        },
        {
          "output_type": "display_data",
          "data": {
            "text/plain": [
              "<IPython.core.display.HTML object>"
            ],
            "text/html": []
          },
          "metadata": {}
        },
        {
          "output_type": "display_data",
          "data": {
            "text/plain": [
              "<pandas.io.formats.style.Styler at 0x7f414f0a2310>"
            ],
            "text/html": [
              "<style type=\"text/css\">\n",
              "#T_3c951 th {\n",
              "  text-align: left;\n",
              "}\n",
              "#T_3c951_row0_col0, #T_3c951_row0_col2, #T_3c951_row1_col0, #T_3c951_row1_col1, #T_3c951_row1_col3, #T_3c951_row1_col4, #T_3c951_row1_col5, #T_3c951_row1_col6, #T_3c951_row1_col7, #T_3c951_row2_col0, #T_3c951_row2_col1, #T_3c951_row2_col2, #T_3c951_row2_col3, #T_3c951_row2_col4, #T_3c951_row2_col5, #T_3c951_row2_col6, #T_3c951_row2_col7, #T_3c951_row3_col0, #T_3c951_row3_col1, #T_3c951_row3_col2, #T_3c951_row3_col3, #T_3c951_row3_col4, #T_3c951_row3_col5, #T_3c951_row3_col6, #T_3c951_row3_col7, #T_3c951_row4_col0, #T_3c951_row4_col1, #T_3c951_row4_col2, #T_3c951_row4_col3, #T_3c951_row4_col4, #T_3c951_row4_col5, #T_3c951_row4_col6, #T_3c951_row4_col7, #T_3c951_row5_col0, #T_3c951_row5_col1, #T_3c951_row5_col2, #T_3c951_row5_col3, #T_3c951_row5_col4, #T_3c951_row5_col5, #T_3c951_row5_col6, #T_3c951_row5_col7 {\n",
              "  text-align: left;\n",
              "}\n",
              "#T_3c951_row0_col1, #T_3c951_row0_col3, #T_3c951_row0_col4, #T_3c951_row0_col5, #T_3c951_row0_col6, #T_3c951_row0_col7, #T_3c951_row1_col2 {\n",
              "  text-align: left;\n",
              "  background-color: yellow;\n",
              "}\n",
              "#T_3c951_row0_col8 {\n",
              "  text-align: left;\n",
              "  background-color: yellow;\n",
              "  background-color: lightgrey;\n",
              "}\n",
              "#T_3c951_row1_col8, #T_3c951_row2_col8, #T_3c951_row3_col8, #T_3c951_row4_col8, #T_3c951_row5_col8 {\n",
              "  text-align: left;\n",
              "  background-color: lightgrey;\n",
              "}\n",
              "</style>\n",
              "<table id=\"T_3c951\" class=\"dataframe\">\n",
              "  <thead>\n",
              "    <tr>\n",
              "      <th class=\"blank level0\" >&nbsp;</th>\n",
              "      <th id=\"T_3c951_level0_col0\" class=\"col_heading level0 col0\" >Model</th>\n",
              "      <th id=\"T_3c951_level0_col1\" class=\"col_heading level0 col1\" >Accuracy</th>\n",
              "      <th id=\"T_3c951_level0_col2\" class=\"col_heading level0 col2\" >AUC</th>\n",
              "      <th id=\"T_3c951_level0_col3\" class=\"col_heading level0 col3\" >Recall</th>\n",
              "      <th id=\"T_3c951_level0_col4\" class=\"col_heading level0 col4\" >Prec.</th>\n",
              "      <th id=\"T_3c951_level0_col5\" class=\"col_heading level0 col5\" >F1</th>\n",
              "      <th id=\"T_3c951_level0_col6\" class=\"col_heading level0 col6\" >Kappa</th>\n",
              "      <th id=\"T_3c951_level0_col7\" class=\"col_heading level0 col7\" >MCC</th>\n",
              "      <th id=\"T_3c951_level0_col8\" class=\"col_heading level0 col8\" >TT (Sec)</th>\n",
              "    </tr>\n",
              "  </thead>\n",
              "  <tbody>\n",
              "    <tr>\n",
              "      <th id=\"T_3c951_level0_row0\" class=\"row_heading level0 row0\" >dt</th>\n",
              "      <td id=\"T_3c951_row0_col0\" class=\"data row0 col0\" >Decision Tree Classifier</td>\n",
              "      <td id=\"T_3c951_row0_col1\" class=\"data row0 col1\" >0.9653</td>\n",
              "      <td id=\"T_3c951_row0_col2\" class=\"data row0 col2\" >0.7211</td>\n",
              "      <td id=\"T_3c951_row0_col3\" class=\"data row0 col3\" >0.4429</td>\n",
              "      <td id=\"T_3c951_row0_col4\" class=\"data row0 col4\" >0.9754</td>\n",
              "      <td id=\"T_3c951_row0_col5\" class=\"data row0 col5\" >0.6038</td>\n",
              "      <td id=\"T_3c951_row0_col6\" class=\"data row0 col6\" >0.5888</td>\n",
              "      <td id=\"T_3c951_row0_col7\" class=\"data row0 col7\" >0.6415</td>\n",
              "      <td id=\"T_3c951_row0_col8\" class=\"data row0 col8\" >0.2800</td>\n",
              "    </tr>\n",
              "    <tr>\n",
              "      <th id=\"T_3c951_level0_row1\" class=\"row_heading level0 row1\" >rf</th>\n",
              "      <td id=\"T_3c951_row1_col0\" class=\"data row1 col0\" >Random Forest Classifier</td>\n",
              "      <td id=\"T_3c951_row1_col1\" class=\"data row1 col1\" >0.9495</td>\n",
              "      <td id=\"T_3c951_row1_col2\" class=\"data row1 col2\" >0.9386</td>\n",
              "      <td id=\"T_3c951_row1_col3\" class=\"data row1 col3\" >0.1810</td>\n",
              "      <td id=\"T_3c951_row1_col4\" class=\"data row1 col4\" >0.9390</td>\n",
              "      <td id=\"T_3c951_row1_col5\" class=\"data row1 col5\" >0.2979</td>\n",
              "      <td id=\"T_3c951_row1_col6\" class=\"data row1 col6\" >0.2850</td>\n",
              "      <td id=\"T_3c951_row1_col7\" class=\"data row1 col7\" >0.3936</td>\n",
              "      <td id=\"T_3c951_row1_col8\" class=\"data row1 col8\" >1.4700</td>\n",
              "    </tr>\n",
              "    <tr>\n",
              "      <th id=\"T_3c951_level0_row2\" class=\"row_heading level0 row2\" >et</th>\n",
              "      <td id=\"T_3c951_row2_col0\" class=\"data row2 col0\" >Extra Trees Classifier</td>\n",
              "      <td id=\"T_3c951_row2_col1\" class=\"data row2 col1\" >0.9445</td>\n",
              "      <td id=\"T_3c951_row2_col2\" class=\"data row2 col2\" >0.9080</td>\n",
              "      <td id=\"T_3c951_row2_col3\" class=\"data row2 col3\" >0.1011</td>\n",
              "      <td id=\"T_3c951_row2_col4\" class=\"data row2 col4\" >0.9128</td>\n",
              "      <td id=\"T_3c951_row2_col5\" class=\"data row2 col5\" >0.1814</td>\n",
              "      <td id=\"T_3c951_row2_col6\" class=\"data row2 col6\" >0.1714</td>\n",
              "      <td id=\"T_3c951_row2_col7\" class=\"data row2 col7\" >0.2921</td>\n",
              "      <td id=\"T_3c951_row2_col8\" class=\"data row2 col8\" >1.5470</td>\n",
              "    </tr>\n",
              "    <tr>\n",
              "      <th id=\"T_3c951_level0_row3\" class=\"row_heading level0 row3\" >lightgbm</th>\n",
              "      <td id=\"T_3c951_row3_col0\" class=\"data row3 col0\" >Light Gradient Boosting Machine</td>\n",
              "      <td id=\"T_3c951_row3_col1\" class=\"data row3 col1\" >0.9433</td>\n",
              "      <td id=\"T_3c951_row3_col2\" class=\"data row3 col2\" >0.7573</td>\n",
              "      <td id=\"T_3c951_row3_col3\" class=\"data row3 col3\" >0.0800</td>\n",
              "      <td id=\"T_3c951_row3_col4\" class=\"data row3 col4\" >0.3417</td>\n",
              "      <td id=\"T_3c951_row3_col5\" class=\"data row3 col5\" >0.1145</td>\n",
              "      <td id=\"T_3c951_row3_col6\" class=\"data row3 col6\" >0.1104</td>\n",
              "      <td id=\"T_3c951_row3_col7\" class=\"data row3 col7\" >0.1349</td>\n",
              "      <td id=\"T_3c951_row3_col8\" class=\"data row3 col8\" >1.3520</td>\n",
              "    </tr>\n",
              "    <tr>\n",
              "      <th id=\"T_3c951_level0_row4\" class=\"row_heading level0 row4\" >xgboost</th>\n",
              "      <td id=\"T_3c951_row4_col0\" class=\"data row4 col0\" >Extreme Gradient Boosting</td>\n",
              "      <td id=\"T_3c951_row4_col1\" class=\"data row4 col1\" >0.9385</td>\n",
              "      <td id=\"T_3c951_row4_col2\" class=\"data row4 col2\" >0.8420</td>\n",
              "      <td id=\"T_3c951_row4_col3\" class=\"data row4 col3\" >0.0026</td>\n",
              "      <td id=\"T_3c951_row4_col4\" class=\"data row4 col4\" >0.1500</td>\n",
              "      <td id=\"T_3c951_row4_col5\" class=\"data row4 col5\" >0.0052</td>\n",
              "      <td id=\"T_3c951_row4_col6\" class=\"data row4 col6\" >0.0038</td>\n",
              "      <td id=\"T_3c951_row4_col7\" class=\"data row4 col7\" >0.0146</td>\n",
              "      <td id=\"T_3c951_row4_col8\" class=\"data row4 col8\" >0.5040</td>\n",
              "    </tr>\n",
              "    <tr>\n",
              "      <th id=\"T_3c951_level0_row5\" class=\"row_heading level0 row5\" >catboost</th>\n",
              "      <td id=\"T_3c951_row5_col0\" class=\"data row5 col0\" >CatBoost Classifier</td>\n",
              "      <td id=\"T_3c951_row5_col1\" class=\"data row5 col1\" >0.9384</td>\n",
              "      <td id=\"T_3c951_row5_col2\" class=\"data row5 col2\" >0.8832</td>\n",
              "      <td id=\"T_3c951_row5_col3\" class=\"data row5 col3\" >0.0026</td>\n",
              "      <td id=\"T_3c951_row5_col4\" class=\"data row5 col4\" >0.1333</td>\n",
              "      <td id=\"T_3c951_row5_col5\" class=\"data row5 col5\" >0.0052</td>\n",
              "      <td id=\"T_3c951_row5_col6\" class=\"data row5 col6\" >0.0036</td>\n",
              "      <td id=\"T_3c951_row5_col7\" class=\"data row5 col7\" >0.0132</td>\n",
              "      <td id=\"T_3c951_row5_col8\" class=\"data row5 col8\" >10.4900</td>\n",
              "    </tr>\n",
              "  </tbody>\n",
              "</table>\n"
            ]
          },
          "metadata": {}
        },
        {
          "output_type": "display_data",
          "data": {
            "text/plain": [
              "Processing:   0%|          | 0/29 [00:00<?, ?it/s]"
            ],
            "application/vnd.jupyter.widget-view+json": {
              "version_major": 2,
              "version_minor": 0,
              "model_id": "78df87f470da41f5b21afd53026d17a9"
            }
          },
          "metadata": {
            "application/vnd.jupyter.widget-view+json": {
              "colab": {
                "custom_widget_manager": {
                  "url": "https://ssl.gstatic.com/colaboratory-static/widgets/colab-cdn-widget-manager/2b70e893a8ba7c0f/manager.min.js"
                }
              }
            }
          }
        },
        {
          "output_type": "display_data",
          "data": {
            "text/plain": [
              "<IPython.core.display.HTML object>"
            ],
            "text/html": []
          },
          "metadata": {}
        }
      ],
      "source": [
        "from pycaret.datasets import get_data\n",
        "from pycaret.classification import *\n",
        "import os\n",
        "\n",
        "os.environ[\"PYCARET_CUSTOM_LOGGING_LEVEL\"] = \"CRITICAL\"\n",
        "\n",
        "#Continuar código aquí\n",
        "\n",
        "# Setup PyCaret\n",
        "clf = setup(df, target='label')\n",
        "best_model = compare_models(\n",
        "    include=['et', 'rf', 'dt', 'xgboost', 'lightgbm', 'catboost'],\n",
        "    sort=\"Precision\"\n",
        "        )"
      ]
    },
    {
      "cell_type": "code",
      "source": [
        "evaluate_model(best_model)"
      ],
      "metadata": {
        "colab": {
          "base_uri": "https://localhost:8080/",
          "height": 608,
          "referenced_widgets": [
            "4c014610b6994880a0cecf5f76331e0b",
            "09354313ccab47f1925456a035d1ebb7",
            "417710c8e8634980ac8851d5b5cc66fb",
            "3989f47370d341ad968dff20018c5d4c",
            "09f00b606d2541bfbd178d63522bcbff",
            "20700c242cba41dd8e8134bd2aca355f",
            "a1e711492e29454cadf11cea9839098c"
          ]
        },
        "id": "4o7L_GfCTe3Y",
        "outputId": "1eec630f-a73f-459d-f5df-9a14aab44105"
      },
      "execution_count": 5,
      "outputs": [
        {
          "output_type": "display_data",
          "data": {
            "text/plain": [
              "interactive(children=(ToggleButtons(description='Plot Type:', icons=('',), options=(('Pipeline Plot', 'pipelin…"
            ],
            "application/vnd.jupyter.widget-view+json": {
              "version_major": 2,
              "version_minor": 0,
              "model_id": "4c014610b6994880a0cecf5f76331e0b"
            }
          },
          "metadata": {
            "application/vnd.jupyter.widget-view+json": {
              "colab": {
                "custom_widget_manager": {
                  "url": "https://ssl.gstatic.com/colaboratory-static/widgets/colab-cdn-widget-manager/2b70e893a8ba7c0f/manager.min.js"
                }
              }
            }
          }
        }
      ]
    },
    {
      "cell_type": "markdown",
      "metadata": {
        "id": "qY85nrViYROF"
      },
      "source": [
        "**Respuesta** los modelos `et, rf` y `dt` corresponden a Extra Trees Classifier, Random Forest Classifier y Decision Tree Classier respectivametne. El Decision Tree es el  árbol de decisión clásico, algoritmo de aprendizaje supervisado no paramétrico, que se utiliza tanto para tareas de clasificación como de regresión con una estructura jerárquica de árbol. El Random Forest Classifier construye multiples árboles de decisión con subconjuntos aleatorios de datos y variables para luego filtrar los con mejor desempeño. El Extra Trees Classifier es un clasificador de árbol \"extremamente aleatorizado\",  es un algoritmo que se distingue de los de decisión clásicos por la forma en que genera los splits.\n",
        "\n",
        "  - **Confusión Matrix**:  El modelo tiene una alta de verdaderos negativos, puediendo clasificar con gran precisión los jugadores que no son aptos, mientras que tiene un muy bajo número de verdaderos positivos, clasificando sólo la mitad de jugadores aptos como tales, esto es esperable pues priorizamos un bajo número de falsos positivos.\n",
        "  - **Threshold**: En efecto, bajar el threshold empeora todas las métricas, y subirlo no las mejora.\n",
        "  - **Feature Importance**:  La única variable con puntaje de importance notable es el nombre, que funciona en gran medida como un Id en el dataset, por la baja cantidad de nombres repetidos.\n",
        "  - **Learning Curve**: ¿El modelo presenta algún problema? De 6000 a 8000 datos, el modelo parece aumentar su desempeño al aumentar el conjunto de entrenamiento, sin embargo parece que de 8000 en adelante la capacidad de predicción del algoritmo decrece, posiblemente debido a overfitting."
      ]
    },
    {
      "cell_type": "markdown",
      "metadata": {
        "id": "K8DSS3u1xMpB"
      },
      "source": [
        "### 3.2 Reducción de dimensionalidad [14 puntos]"
      ]
    },
    {
      "cell_type": "markdown",
      "metadata": {
        "id": "RLu0543p876P"
      },
      "source": [
        "<center>\n",
        "<img src='https://i.kym-cdn.com/photos/images/original/002/258/560/668.gif' width=400 />"
      ]
    },
    {
      "cell_type": "markdown",
      "metadata": {
        "id": "QT-bxJ0txwNF"
      },
      "source": [
        "A pesar de los resultados obtenidos previamente, el manager de Jere ha solicitado el entrenamiento de un modelo de XGBoost utilizando los datos disponibles. Además, se debe proceder a realizar una reducción de dimensionalidad basada en la importancia de las características.\n",
        "\n",
        "Para llevar a cabo esta tarea:\n",
        "\n",
        "1. Inicie entrenando un modelo XGBoost con todas las características disponibles. [2 puntos]\n",
        "\n",
        "2. Una vez el modelo esté entrenado, evalúe y clasifique las características según su importancia de forma descendente. [2 puntos]\n",
        "\n",
        "3. Utilice esta clasificación para ejecutar una búsqueda recursiva de eliminación de características, eliminando progresivamente las menos importantes y evaluando el impacto en el desempeño del modelo hasta identificar las N características más críticas. [2 puntos]\n",
        "\n",
        "4. Con este conjunto reducido de características, entrene un nuevo modelo y evalúe su rendimiento. [2 puntos]\n",
        "\n",
        "5. Posteriormente, responda a las siguientes preguntas para una comprensión más profunda de los cambios y beneficios:\n",
        "\n",
        "  - ¿El rendimiento del modelo con las características seleccionadas es similar al del modelo original? ¿Cómo se comparan en términos de precisión y robustez? [2 puntos]\n",
        "  - ¿Cuáles son los beneficios potenciales de eliminar variables del modelo? Considere factores como la simplificación del modelo, reducción del tiempo de entrenamiento, y mejora en la capacidad de generalización. [2 puntos]\n",
        "  - Comente si el modelo con menor dimensionalidad es más sencillo de explicar. Explique brevemente por qué la eliminación de ciertas características puede facilitar la comprensión y la explicación del comportamiento del modelo. [2 puntos]\n",
        "\n",
        "Notar que con esta metodologia buscamos encontrar un punto entermedio entre número de festures y desempeño. por esto, si observa que al aumentar festires el aumento es despreciable, puede no considerar agregar más features a su modelo."
      ]
    },
    {
      "cell_type": "markdown",
      "metadata": {
        "id": "NHfmK63TuDOS"
      },
      "source": [
        "**Respuesta**"
      ]
    },
    {
      "cell_type": "code",
      "execution_count": 79,
      "metadata": {
        "id": "HQwUd_nsuDOe"
      },
      "outputs": [],
      "source": [
        "X, y = df.drop(columns=\"label\"), df.label\n",
        "X_train, X_test, y_train, y_test = train_test_split(\n",
        "    X, y, test_size=0.3, stratify=y, random_state=RANDOM_STATE\n",
        "    )\n",
        "model = pipes_dict[\"XGBOOST\"].fit(X_train, y_train)"
      ]
    },
    {
      "cell_type": "code",
      "source": [
        "def accuracy(y_pred, y_test):\n",
        "  return (len(y_test) -(y_pred - y_test).abs().sum()) / len(y_test)\n",
        "\n",
        "def precision(y_pred, y_test):\n",
        "  TP = ((y_pred == 1) & (y_test-y_pred == 0)).sum()\n",
        "  FP = ((y_pred == 1) & (y_test-y_pred != 0)).sum()\n",
        "  return TP / (TP + FP)\n",
        "\n",
        "\n",
        "N = 100\n",
        "features = model[\"Preprocessing\"].get_feature_names_out()\n",
        "X_train_reduced = model[\"Preprocessing\"].transform(X_train)\n",
        "X_test_reduced = model[\"Preprocessing\"].transform(X_test)\n",
        "accuracies = []\n",
        "precisions = []\n",
        "lens = []\n",
        "feature_register = []\n",
        "while len(features) > N:\n",
        "  X_train_reduced = X_train_reduced[features]\n",
        "  model_reduced = model[\"Modelo\"].fit(X_train_reduced, y_train)\n",
        "  feat_importances = pd.DataFrame(\n",
        "      model_reduced.feature_importances_,\n",
        "      index=features,\n",
        "      columns=[\"Importance\"]\n",
        "  )\n",
        "  feat_importances.sort_values(by='Importance', ascending=True, inplace=True)\n",
        "\n",
        "\n",
        "  X_test_reduced = X_test_reduced[features]\n",
        "  y_pred_reduced = model_reduced.predict(X_test_reduced)\n",
        "  accuracies += [accuracy(y_pred_reduced, y_test)]\n",
        "  precisions += [precision(y_pred_reduced, y_test)]\n",
        "  lens += [len(features)]\n",
        "  feature_register += [features]\n",
        "  features = feat_importances.head(-10).index"
      ],
      "metadata": {
        "id": "O9Z3Rgf6Vy-H"
      },
      "execution_count": 57,
      "outputs": []
    },
    {
      "cell_type": "code",
      "source": [
        "plt.plot(lens, accuracies, label=\"Accuracy\")\n",
        "plt.plot(lens, precisions, label=\"Precision\")\n",
        "plt.xlabel(\"Número de Features\")\n",
        "plt.ylabel(\"Métricas\")\n",
        "plt.legend()\n",
        "plt.show()"
      ],
      "metadata": {
        "colab": {
          "base_uri": "https://localhost:8080/",
          "height": 503
        },
        "id": "ZV77DSvtqxwY",
        "outputId": "546a5dd7-e631-4e17-d15c-cd7ed381351f"
      },
      "execution_count": 56,
      "outputs": [
        {
          "output_type": "display_data",
          "data": {
            "text/plain": [
              "<Figure size 800x550 with 1 Axes>"
            ],
            "image/png": "[encoded data removed]"
          },
          "metadata": {}
        }
      ]
    },
    {
      "cell_type": "markdown",
      "source": [
        "Se puede identificar en el gráfico obtenido que la eliminación de features conlleva una pérdida significativa de **precision**, logrando un punto interesante de trade-off en las 157, menos que esto entrega valores demasiado bajos de precisión.\n"
      ],
      "metadata": {
        "id": "1zDqPLP0sT7n"
      }
    },
    {
      "cell_type": "code",
      "source": [
        "selected_features = feature_register[8]\n",
        "X_train_reduced = model[\"Preprocessing\"].transform(X_train)[selected_features]\n",
        "model_reduced = model[\"Modelo\"].fit(X_train_reduced, y_train)\n",
        "X_test_reduced = model[\"Preprocessing\"].transform(X_test)[selected_features]\n",
        "y_pred_reduced = model_reduced.predict(X_test_reduced)\n",
        "\n",
        "y_pred = model.fit(X_train,y_train).predict(X_test)\n",
        "\n",
        "print(f\"Clasification report para el modelo original:\\n\"+ classification_report(y_test, y_pred))\n",
        "print(f\"Clasification report para el modelo reducido:\\n\"+ classification_report(y_test, y_pred_reduced))"
      ],
      "metadata": {
        "colab": {
          "base_uri": "https://localhost:8080/"
        },
        "id": "VHeeVajusmTc",
        "outputId": "e07e36f3-3af2-4be6-a04d-ee6e5eb392ab"
      },
      "execution_count": 81,
      "outputs": [
        {
          "output_type": "stream",
          "name": "stdout",
          "text": [
            "Clasification report para el modelo original:\n",
            "              precision    recall  f1-score   support\n",
            "\n",
            "           0       0.96      0.99      0.97      4954\n",
            "           1       0.60      0.31      0.41       323\n",
            "\n",
            "    accuracy                           0.95      5277\n",
            "   macro avg       0.78      0.65      0.69      5277\n",
            "weighted avg       0.94      0.95      0.94      5277\n",
            "\n",
            "Clasification report para el modelo reducido:\n",
            "              precision    recall  f1-score   support\n",
            "\n",
            "           0       0.94      1.00      0.97      4954\n",
            "           1       0.48      0.04      0.08       323\n",
            "\n",
            "    accuracy                           0.94      5277\n",
            "   macro avg       0.71      0.52      0.52      5277\n",
            "weighted avg       0.91      0.94      0.91      5277\n",
            "\n"
          ]
        }
      ]
    },
    {
      "cell_type": "markdown",
      "source": [
        "- ¿El rendimiento del modelo con las características seleccionadas es similar al del modelo original? ¿Cómo se comparan en términos de precisión y robustez? [2 puntos]\n",
        "- ¿Cuáles son los beneficios potenciales de eliminar variables del modelo? Considere factores como la simplificación del modelo, reducción del tiempo de entrenamiento, y mejora en la capacidad de generalización. [2 puntos]\n",
        "- Comente si el modelo con menor dimensionalidad es más sencillo de explicar. Explique brevemente por qué la eliminación de ciertas características puede facilitar la comprensión y la explicación del comportamiento del modelo. [2 puntos]\n",
        "\n",
        "  **Respuestas**: La disminución de métricas es significativa. El accuracy se ve poco afectado por el gran desbalance existente en las clases, sin embargo al reducir features la precisión, que es la métrica que más nos interesa, se ve notoriamente debilitada. Más aún, el recall se desploma, que si bien no es nuestra métrica más relevante, si nos significa que del total de jugadores aptos, no estamos comprando prácticamente ninguno. En definitiva no vale la pena reducir el número de featurs en este caso.\n",
        "\n",
        "  Potencialmente eliminar variables del modelo ayuda a que este se ejecute más rápido, sea más dificil el overfitting, pues hay menos variables que aprender y el ajuste de hiperparámetros es más sencillo.\n",
        "\n",
        "  En general reducir la dimensionalidad de un modelo nos entrega información relevante acerca de cuales son las variables que nos interesa comprender para caracterizar el problema tratado, pues la característica que estas describen resulta importante para distinguir las clases, en este caso es una cualidad del deportista que resulta importante para saber si es apto o no. Sin embargo en este caso, reducir el número de features de 237 a 157 no supone un gran avance en interpretabilidad."
      ],
      "metadata": {
        "id": "r1AViPAOwa8f"
      }
    },
    {
      "cell_type": "markdown",
      "metadata": {
        "id": "PTG5cH9r3M9g"
      },
      "source": [
        "### 2.3 Calibración Probabilistica [6 puntos]"
      ]
    },
    {
      "cell_type": "markdown",
      "metadata": {
        "id": "CDL0VqjR7yvb"
      },
      "source": [
        "<center>\n",
        "<img src='https://media2.giphy.com/media/l2Je4Ku0Cx292KWv6/200w.gif?cid=6c09b952y0sihtq9tb6sz8j2023x3zxxp3qx1ocgonkpkblj&ep=v1_gifs_search&rid=200w.gif&ct=g' width=400 />"
      ]
    },
    {
      "cell_type": "markdown",
      "metadata": {
        "id": "qmOKxhAw3sic"
      },
      "source": [
        "Para lograr modelos más modulares, se recomienda realizar una calibración del modelo entrenado anteriormente, con el objetivo de obtener salidas que reflejen mayor modularidad.\n",
        "\n",
        "1. Se solicita que utilice un método de calibración que asegure que las probabilidades generadas incrementen de manera monótona. Una métrica ampliamente utilizada para evaluar la precisión de la calibración de un modelo es el Brier Score. Calcule el Brier Score para el modelo tanto antes como después de la calibración. Esto le permitirá realizar una comparación cuantitativa y determinar si la calibración ha mejorado el rendimiento del modelo. Para más información sobre el Brier Score, puede consultar el siguiente enlace: [Scikit-Learn - Brier Score Loss](https://scikit-learn.org/stable/modules/generated/sklearn.metrics.brier_score_loss.html). [3 puntos]\n",
        "\n",
        "2. Tras la calibración, examine y comente los resultados obtenidos. A su análisis añada una comparación visual de las ideales versus las salidas del modelo original (sin calibrar) y del modelo calibrado. [3 puntos]"
      ]
    },
    {
      "cell_type": "markdown",
      "metadata": {
        "id": "QIiYz_qLuD19"
      },
      "source": [
        "**Respuesta**"
      ]
    },
    {
      "cell_type": "code",
      "execution_count": 22,
      "metadata": {
        "id": "l0bfSuiFuD2I"
      },
      "outputs": [],
      "source": [
        "calibrated = CalibratedClassifierCV(model[\"Modelo\"], method='isotonic', cv=3)\n"
      ]
    },
    {
      "cell_type": "code",
      "source": [
        "proba_sin_calibrar = model.predict_proba(X_test)[:,1]\n",
        "proba_con_calibrar = (\n",
        "      calibrated\n",
        "      .fit(model[\"Preprocessing\"].transform(X_train), y_train)\n",
        "      .predict_proba(model[\"Preprocessing\"].transform(X_test))\n",
        "    [:,1]\n",
        "    )\n",
        "print(\"Brier Score Antes de Calibrar: \", brier_score_loss(\n",
        "    y_test,\n",
        "    proba_sin_calibrar\n",
        "))\n",
        "print(\"Brier Score Después de Calibrar: \", brier_score_loss(\n",
        "    y_test,\n",
        "    proba_con_calibrar\n",
        "))"
      ],
      "metadata": {
        "colab": {
          "base_uri": "https://localhost:8080/"
        },
        "id": "JWFCKoOCaDqz",
        "outputId": "5b59568c-42e5-4130-cd93-3c80a3bf718b"
      },
      "execution_count": 37,
      "outputs": [
        {
          "output_type": "stream",
          "name": "stdout",
          "text": [
            "Brier Score Antes de Calibrar:  0.04006909333306194\n",
            "Brier Score Después de Calibrar:  0.036930681077551965\n"
          ]
        }
      ]
    },
    {
      "cell_type": "code",
      "source": [
        "import matplotlib.pyplot as plt\n",
        "from sklearn.calibration import calibration_curve\n",
        "\n",
        "# Definimos figura para hacer el plot\n",
        "fig = plt.figure()\n",
        "ax = fig.add_subplot()\n",
        "ax.plot([0, 1], [0, 1], \"b--\", label=\"Calibración Ideal\")\n",
        "ax.set_ylabel(\"Fracción de positivos\")\n",
        "ax.set_xlabel(\"Valor Promedio Predicho\")\n",
        "ax.set_title('Gráfico de Calibración (reliability curve)')\n",
        "\n",
        "# Graficamos el primer modelo raw\n",
        "fraction_of_positives_dt, mean_predicted_value_dt = calibration_curve(y_test, proba_sin_calibrar, n_bins=20)\n",
        "ax.plot(\n",
        "    mean_predicted_value_dt,\n",
        "    fraction_of_positives_dt, \"s-\", label=\"%s\" % ('Modelo Sin Calibrar')\n",
        ")\n",
        "\n",
        "# Graficamos el modelo calibrado\n",
        "prob_pos_cc = (\n",
        "      calibrated\n",
        "      .fit(model[\"Preprocessing\"].transform(X_train), y_train)\n",
        "      .predict_proba(model[\"Preprocessing\"].transform(X_test))\n",
        "    [:,1]\n",
        "    )\n",
        "fraction_of_positives_cc, mean_predicted_value_cc = calibration_curve(y_test, proba_con_calibrar, n_bins=10)\n",
        "ax.plot(mean_predicted_value_cc, fraction_of_positives_cc, \"s-\", label=\"%s\" % ('Con Calibración Isotónica'))\n",
        "\n",
        "ax.legend(loc=\"lower right\")\n",
        "fig.show()\n"
      ],
      "metadata": {
        "colab": {
          "base_uri": "https://localhost:8080/",
          "height": 524
        },
        "id": "sR4DPH5Iaroj",
        "outputId": "799f42c7-5d13-47aa-d210-c6521398efc4"
      },
      "execution_count": 38,
      "outputs": [
        {
          "output_type": "display_data",
          "data": {
            "text/plain": [
              "<Figure size 800x550 with 1 Axes>"
            ],
            "image/png": "[encoded data removed]"
          },
          "metadata": {}
        }
      ]
    },
    {
      "cell_type": "markdown",
      "source": [
        "**Respuesta:** Dado que a mejor Brier Score Loss, menor el error entre la probabilidad predicha y el resultado obtenido, podemos concluir tanto de esta métrica como del gráfico se puede concluir que la calibración ha mejorado el rendimiento del modelo."
      ],
      "metadata": {
        "id": "Mu6couFuexnE"
      }
    },
    {
      "cell_type": "markdown",
      "metadata": {
        "id": "KwmARb6MOyQI"
      },
      "source": [
        "Mucho éxito!\n",
        "\n",
        "<center>\n",
        "<img src=\"https://i.pinimg.com/originals/55/3d/42/553d42bea9b10e0662a05aa8726fc7f4.gif\" width=300>"
      ]
    }
  ],
  "metadata": {
    "colab": {
      "collapsed_sections": [
        "k-ao0mOU64Ru",
        "uy5VMU6ae_g6"
      ],
      "provenance": []
    },
    "kernelspec": {
      "display_name": "lab_env",
      "language": "python",
      "name": "lab_env"
    },
    "language_info": {
      "codemirror_mode": {
        "name": "ipython",
        "version": 3
      },
      "file_extension": ".py",
      "mimetype": "text/x-python",
      "name": "python",
      "nbconvert_exporter": "python",
      "pygments_lexer": "ipython3",
      "version": "3.13.3"
    },
    "widgets": {
      "application/vnd.jupyter.widget-state+json": {
        "78df87f470da41f5b21afd53026d17a9": {
          "model_module": "@jupyter-widgets/controls",
          "model_name": "HBoxModel",
          "model_module_version": "1.5.0",
          "state": {
            "_dom_classes": [],
            "_model_module": "@jupyter-widgets/controls",
            "_model_module_version": "1.5.0",
            "_model_name": "HBoxModel",
            "_view_count": null,
            "_view_module": "@jupyter-widgets/controls",
            "_view_module_version": "1.5.0",
            "_view_name": "HBoxView",
            "box_style": "",
            "children": [
              "IPY_MODEL_5dea38f0e949487c87e5b40fe919793d",
              "IPY_MODEL_9929092bd84e423caf04bb3a0bd8a22f",
              "IPY_MODEL_0d4661dde5e24a2882e116ff0da8168f"
            ],
            "layout": "IPY_MODEL_b749e6537c604cc49004a7b75832afb4"
          }
        },
        "5dea38f0e949487c87e5b40fe919793d": {
          "model_module": "@jupyter-widgets/controls",
          "model_name": "HTMLModel",
          "model_module_version": "1.5.0",
          "state": {
            "_dom_classes": [],
            "_model_module": "@jupyter-widgets/controls",
            "_model_module_version": "1.5.0",
            "_model_name": "HTMLModel",
            "_view_count": null,
            "_view_module": "@jupyter-widgets/controls",
            "_view_module_version": "1.5.0",
            "_view_name": "HTMLView",
            "description": "",
            "description_tooltip": null,
            "layout": "IPY_MODEL_9e5387bc7bf24ff1aa75311951bbdcde",
            "placeholder": "​",
            "style": "IPY_MODEL_bf7f93e29f714eca91f0a2e18f6e0de1",
            "value": "Processing: 100%"
          }
        },
        "9929092bd84e423caf04bb3a0bd8a22f": {
          "model_module": "@jupyter-widgets/controls",
          "model_name": "FloatProgressModel",
          "model_module_version": "1.5.0",
          "state": {
            "_dom_classes": [],
            "_model_module": "@jupyter-widgets/controls",
            "_model_module_version": "1.5.0",
            "_model_name": "FloatProgressModel",
            "_view_count": null,
            "_view_module": "@jupyter-widgets/controls",
            "_view_module_version": "1.5.0",
            "_view_name": "ProgressView",
            "bar_style": "",
            "description": "",
            "description_tooltip": null,
            "layout": "IPY_MODEL_b77ca1bbdd5a4f31bd00c237eff1c389",
            "max": 29,
            "min": 0,
            "orientation": "horizontal",
            "style": "IPY_MODEL_8e2362adcb7b44dca13c710187bd6a2f",
            "value": 29
          }
        },
        "0d4661dde5e24a2882e116ff0da8168f": {
          "model_module": "@jupyter-widgets/controls",
          "model_name": "HTMLModel",
          "model_module_version": "1.5.0",
          "state": {
            "_dom_classes": [],
            "_model_module": "@jupyter-widgets/controls",
            "_model_module_version": "1.5.0",
            "_model_name": "HTMLModel",
            "_view_count": null,
            "_view_module": "@jupyter-widgets/controls",
            "_view_module_version": "1.5.0",
            "_view_name": "HTMLView",
            "description": "",
            "description_tooltip": null,
            "layout": "IPY_MODEL_c19a836d24834fc39b0562224f9edb41",
            "placeholder": "​",
            "style": "IPY_MODEL_4d77fdb8556a42e59efd318ed30a8bbb",
            "value": " 29/29 [02:40&lt;00:00,  8.62s/it]"
          }
        },
        "b749e6537c604cc49004a7b75832afb4": {
          "model_module": "@jupyter-widgets/base",
          "model_name": "LayoutModel",
          "model_module_version": "1.2.0",
          "state": {
            "_model_module": "@jupyter-widgets/base",
            "_model_module_version": "1.2.0",
            "_model_name": "LayoutModel",
            "_view_count": null,
            "_view_module": "@jupyter-widgets/base",
            "_view_module_version": "1.2.0",
            "_view_name": "LayoutView",
            "align_content": null,
            "align_items": null,
            "align_self": null,
            "border": null,
            "bottom": null,
            "display": null,
            "flex": null,
            "flex_flow": null,
            "grid_area": null,
            "grid_auto_columns": null,
            "grid_auto_flow": null,
            "grid_auto_rows": null,
            "grid_column": null,
            "grid_gap": null,
            "grid_row": null,
            "grid_template_areas": null,
            "grid_template_columns": null,
            "grid_template_rows": null,
            "height": null,
            "justify_content": null,
            "justify_items": null,
            "left": null,
            "margin": null,
            "max_height": null,
            "max_width": null,
            "min_height": null,
            "min_width": null,
            "object_fit": null,
            "object_position": null,
            "order": null,
            "overflow": null,
            "overflow_x": null,
            "overflow_y": null,
            "padding": null,
            "right": null,
            "top": null,
            "visibility": "hidden",
            "width": null
          }
        },
        "9e5387bc7bf24ff1aa75311951bbdcde": {
          "model_module": "@jupyter-widgets/base",
          "model_name": "LayoutModel",
          "model_module_version": "1.2.0",
          "state": {
            "_model_module": "@jupyter-widgets/base",
            "_model_module_version": "1.2.0",
            "_model_name": "LayoutModel",
            "_view_count": null,
            "_view_module": "@jupyter-widgets/base",
            "_view_module_version": "1.2.0",
            "_view_name": "LayoutView",
            "align_content": null,
            "align_items": null,
            "align_self": null,
            "border": null,
            "bottom": null,
            "display": null,
            "flex": null,
            "flex_flow": null,
            "grid_area": null,
            "grid_auto_columns": null,
            "grid_auto_flow": null,
            "grid_auto_rows": null,
            "grid_column": null,
            "grid_gap": null,
            "grid_row": null,
            "grid_template_areas": null,
            "grid_template_columns": null,
            "grid_template_rows": null,
            "height": null,
            "justify_content": null,
            "justify_items": null,
            "left": null,
            "margin": null,
            "max_height": null,
            "max_width": null,
            "min_height": null,
            "min_width": null,
            "object_fit": null,
            "object_position": null,
            "order": null,
            "overflow": null,
            "overflow_x": null,
            "overflow_y": null,
            "padding": null,
            "right": null,
            "top": null,
            "visibility": null,
            "width": null
          }
        },
        "bf7f93e29f714eca91f0a2e18f6e0de1": {
          "model_module": "@jupyter-widgets/controls",
          "model_name": "DescriptionStyleModel",
          "model_module_version": "1.5.0",
          "state": {
            "_model_module": "@jupyter-widgets/controls",
            "_model_module_version": "1.5.0",
            "_model_name": "DescriptionStyleModel",
            "_view_count": null,
            "_view_module": "@jupyter-widgets/base",
            "_view_module_version": "1.2.0",
            "_view_name": "StyleView",
            "description_width": ""
          }
        },
        "b77ca1bbdd5a4f31bd00c237eff1c389": {
          "model_module": "@jupyter-widgets/base",
          "model_name": "LayoutModel",
          "model_module_version": "1.2.0",
          "state": {
            "_model_module": "@jupyter-widgets/base",
            "_model_module_version": "1.2.0",
            "_model_name": "LayoutModel",
            "_view_count": null,
            "_view_module": "@jupyter-widgets/base",
            "_view_module_version": "1.2.0",
            "_view_name": "LayoutView",
            "align_content": null,
            "align_items": null,
            "align_self": null,
            "border": null,
            "bottom": null,
            "display": null,
            "flex": null,
            "flex_flow": null,
            "grid_area": null,
            "grid_auto_columns": null,
            "grid_auto_flow": null,
            "grid_auto_rows": null,
            "grid_column": null,
            "grid_gap": null,
            "grid_row": null,
            "grid_template_areas": null,
            "grid_template_columns": null,
            "grid_template_rows": null,
            "height": null,
            "justify_content": null,
            "justify_items": null,
            "left": null,
            "margin": null,
            "max_height": null,
            "max_width": null,
            "min_height": null,
            "min_width": null,
            "object_fit": null,
            "object_position": null,
            "order": null,
            "overflow": null,
            "overflow_x": null,
            "overflow_y": null,
            "padding": null,
            "right": null,
            "top": null,
            "visibility": null,
            "width": null
          }
        },
        "8e2362adcb7b44dca13c710187bd6a2f": {
          "model_module": "@jupyter-widgets/controls",
          "model_name": "ProgressStyleModel",
          "model_module_version": "1.5.0",
          "state": {
            "_model_module": "@jupyter-widgets/controls",
            "_model_module_version": "1.5.0",
            "_model_name": "ProgressStyleModel",
            "_view_count": null,
            "_view_module": "@jupyter-widgets/base",
            "_view_module_version": "1.2.0",
            "_view_name": "StyleView",
            "bar_color": null,
            "description_width": ""
          }
        },
        "c19a836d24834fc39b0562224f9edb41": {
          "model_module": "@jupyter-widgets/base",
          "model_name": "LayoutModel",
          "model_module_version": "1.2.0",
          "state": {
            "_model_module": "@jupyter-widgets/base",
            "_model_module_version": "1.2.0",
            "_model_name": "LayoutModel",
            "_view_count": null,
            "_view_module": "@jupyter-widgets/base",
            "_view_module_version": "1.2.0",
            "_view_name": "LayoutView",
            "align_content": null,
            "align_items": null,
            "align_self": null,
            "border": null,
            "bottom": null,
            "display": null,
            "flex": null,
            "flex_flow": null,
            "grid_area": null,
            "grid_auto_columns": null,
            "grid_auto_flow": null,
            "grid_auto_rows": null,
            "grid_column": null,
            "grid_gap": null,
            "grid_row": null,
            "grid_template_areas": null,
            "grid_template_columns": null,
            "grid_template_rows": null,
            "height": null,
            "justify_content": null,
            "justify_items": null,
            "left": null,
            "margin": null,
            "max_height": null,
            "max_width": null,
            "min_height": null,
            "min_width": null,
            "object_fit": null,
            "object_position": null,
            "order": null,
            "overflow": null,
            "overflow_x": null,
            "overflow_y": null,
            "padding": null,
            "right": null,
            "top": null,
            "visibility": null,
            "width": null
          }
        },
        "4d77fdb8556a42e59efd318ed30a8bbb": {
          "model_module": "@jupyter-widgets/controls",
          "model_name": "DescriptionStyleModel",
          "model_module_version": "1.5.0",
          "state": {
            "_model_module": "@jupyter-widgets/controls",
            "_model_module_version": "1.5.0",
            "_model_name": "DescriptionStyleModel",
            "_view_count": null,
            "_view_module": "@jupyter-widgets/base",
            "_view_module_version": "1.2.0",
            "_view_name": "StyleView",
            "description_width": ""
          }
        },
        "4c014610b6994880a0cecf5f76331e0b": {
          "model_module": "@jupyter-widgets/controls",
          "model_name": "VBoxModel",
          "model_module_version": "1.5.0",
          "state": {
            "_dom_classes": [
              "widget-interact"
            ],
            "_model_module": "@jupyter-widgets/controls",
            "_model_module_version": "1.5.0",
            "_model_name": "VBoxModel",
            "_view_count": null,
            "_view_module": "@jupyter-widgets/controls",
            "_view_module_version": "1.5.0",
            "_view_name": "VBoxView",
            "box_style": "",
            "children": [
              "IPY_MODEL_09354313ccab47f1925456a035d1ebb7",
              "IPY_MODEL_417710c8e8634980ac8851d5b5cc66fb"
            ],
            "layout": "IPY_MODEL_3989f47370d341ad968dff20018c5d4c"
          }
        },
        "09354313ccab47f1925456a035d1ebb7": {
          "model_module": "@jupyter-widgets/controls",
          "model_name": "ToggleButtonsModel",
          "model_module_version": "1.5.0",
          "state": {
            "_dom_classes": [],
            "_model_module": "@jupyter-widgets/controls",
            "_model_module_version": "1.5.0",
            "_model_name": "ToggleButtonsModel",
            "_options_labels": [
              "Pipeline Plot",
              "Hyperparameters",
              "AUC",
              "Confusion Matrix",
              "Threshold",
              "Precision Recall",
              "Prediction Error",
              "Class Report",
              "Feature Selection",
              "Learning Curve",
              "Manifold Learning",
              "Calibration Curve",
              "Validation Curve",
              "Dimensions",
              "Feature Importance",
              "Feature Importance (All)",
              "Decision Boundary",
              "Lift Chart",
              "Gain Chart",
              "Decision Tree",
              "KS Statistic Plot"
            ],
            "_view_count": null,
            "_view_module": "@jupyter-widgets/controls",
            "_view_module_version": "1.5.0",
            "_view_name": "ToggleButtonsView",
            "button_style": "",
            "description": "Plot Type:",
            "description_tooltip": null,
            "disabled": false,
            "icons": [
              ""
            ],
            "index": 9,
            "layout": "IPY_MODEL_09f00b606d2541bfbd178d63522bcbff",
            "style": "IPY_MODEL_20700c242cba41dd8e8134bd2aca355f",
            "tooltips": []
          }
        },
        "417710c8e8634980ac8851d5b5cc66fb": {
          "model_module": "@jupyter-widgets/output",
          "model_name": "OutputModel",
          "model_module_version": "1.0.0",
          "state": {
            "_dom_classes": [],
            "_model_module": "@jupyter-widgets/output",
            "_model_module_version": "1.0.0",
            "_model_name": "OutputModel",
            "_view_count": null,
            "_view_module": "@jupyter-widgets/output",
            "_view_module_version": "1.0.0",
            "_view_name": "OutputView",
            "layout": "IPY_MODEL_a1e711492e29454cadf11cea9839098c",
            "msg_id": "",
            "outputs": [
              {
                "output_type": "display_data",
                "data": {
                  "text/plain": "<Figure size 800x550 with 1 Axes>",
                  "image/png": "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\n"
                },
                "metadata": {}
              }
            ]
          }
        },
        "3989f47370d341ad968dff20018c5d4c": {
          "model_module": "@jupyter-widgets/base",
          "model_name": "LayoutModel",
          "model_module_version": "1.2.0",
          "state": {
            "_model_module": "@jupyter-widgets/base",
            "_model_module_version": "1.2.0",
            "_model_name": "LayoutModel",
            "_view_count": null,
            "_view_module": "@jupyter-widgets/base",
            "_view_module_version": "1.2.0",
            "_view_name": "LayoutView",
            "align_content": null,
            "align_items": null,
            "align_self": null,
            "border": null,
            "bottom": null,
            "display": null,
            "flex": null,
            "flex_flow": null,
            "grid_area": null,
            "grid_auto_columns": null,
            "grid_auto_flow": null,
            "grid_auto_rows": null,
            "grid_column": null,
            "grid_gap": null,
            "grid_row": null,
            "grid_template_areas": null,
            "grid_template_columns": null,
            "grid_template_rows": null,
            "height": null,
            "justify_content": null,
            "justify_items": null,
            "left": null,
            "margin": null,
            "max_height": null,
            "max_width": null,
            "min_height": null,
            "min_width": null,
            "object_fit": null,
            "object_position": null,
            "order": null,
            "overflow": null,
            "overflow_x": null,
            "overflow_y": null,
            "padding": null,
            "right": null,
            "top": null,
            "visibility": null,
            "width": null
          }
        },
        "09f00b606d2541bfbd178d63522bcbff": {
          "model_module": "@jupyter-widgets/base",
          "model_name": "LayoutModel",
          "model_module_version": "1.2.0",
          "state": {
            "_model_module": "@jupyter-widgets/base",
            "_model_module_version": "1.2.0",
            "_model_name": "LayoutModel",
            "_view_count": null,
            "_view_module": "@jupyter-widgets/base",
            "_view_module_version": "1.2.0",
            "_view_name": "LayoutView",
            "align_content": null,
            "align_items": null,
            "align_self": null,
            "border": null,
            "bottom": null,
            "display": null,
            "flex": null,
            "flex_flow": null,
            "grid_area": null,
            "grid_auto_columns": null,
            "grid_auto_flow": null,
            "grid_auto_rows": null,
            "grid_column": null,
            "grid_gap": null,
            "grid_row": null,
            "grid_template_areas": null,
            "grid_template_columns": null,
            "grid_template_rows": null,
            "height": null,
            "justify_content": null,
            "justify_items": null,
            "left": null,
            "margin": null,
            "max_height": null,
            "max_width": null,
            "min_height": null,
            "min_width": null,
            "object_fit": null,
            "object_position": null,
            "order": null,
            "overflow": null,
            "overflow_x": null,
            "overflow_y": null,
            "padding": null,
            "right": null,
            "top": null,
            "visibility": null,
            "width": null
          }
        },
        "20700c242cba41dd8e8134bd2aca355f": {
          "model_module": "@jupyter-widgets/controls",
          "model_name": "ToggleButtonsStyleModel",
          "model_module_version": "1.5.0",
          "state": {
            "_model_module": "@jupyter-widgets/controls",
            "_model_module_version": "1.5.0",
            "_model_name": "ToggleButtonsStyleModel",
            "_view_count": null,
            "_view_module": "@jupyter-widgets/base",
            "_view_module_version": "1.2.0",
            "_view_name": "StyleView",
            "button_width": "",
            "description_width": "",
            "font_weight": ""
          }
        },
        "a1e711492e29454cadf11cea9839098c": {
          "model_module": "@jupyter-widgets/base",
          "model_name": "LayoutModel",
          "model_module_version": "1.2.0",
          "state": {
            "_model_module": "@jupyter-widgets/base",
            "_model_module_version": "1.2.0",
            "_model_name": "LayoutModel",
            "_view_count": null,
            "_view_module": "@jupyter-widgets/base",
            "_view_module_version": "1.2.0",
            "_view_name": "LayoutView",
            "align_content": null,
            "align_items": null,
            "align_self": null,
            "border": null,
            "bottom": null,
            "display": null,
            "flex": null,
            "flex_flow": null,
            "grid_area": null,
            "grid_auto_columns": null,
            "grid_auto_flow": null,
            "grid_auto_rows": null,
            "grid_column": null,
            "grid_gap": null,
            "grid_row": null,
            "grid_template_areas": null,
            "grid_template_columns": null,
            "grid_template_rows": null,
            "height": null,
            "justify_content": null,
            "justify_items": null,
            "left": null,
            "margin": null,
            "max_height": null,
            "max_width": null,
            "min_height": null,
            "min_width": null,
            "object_fit": null,
            "object_position": null,
            "order": null,
            "overflow": null,
            "overflow_x": null,
            "overflow_y": null,
            "padding": null,
            "right": null,
            "top": null,
            "visibility": null,
            "width": null
          }
        }
      }
    }
  },
  "nbformat": 4,
  "nbformat_minor": 0
}