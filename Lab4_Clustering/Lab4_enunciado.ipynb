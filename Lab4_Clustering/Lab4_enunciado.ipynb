{
 "cells": [
  {
   "cell_type": "markdown",
   "metadata": {
    "cell_id": "ac9155b9f5e04400957a6f8bb3f6610c",
    "deepnote_cell_type": "markdown",
    "id": "2v2D1coL7I8i"
   },
   "source": [
    "<h1><center>Laboratorio 4: La solicitud de Sergio 🤗</center></h1>\n",
    "\n",
    "<center><strong>MDS7202: Laboratorio de Programación Científica para Ciencia de Datos - Otoño 2025</strong></center>"
   ]
  },
  {
   "cell_type": "markdown",
   "metadata": {
    "cell_id": "d3d6f6d405c54dbe985a5f4b3e4f9120",
    "deepnote_cell_type": "markdown",
    "id": "YxdTmIPD7L_x"
   },
   "source": [
    "### Cuerpo Docente:\n",
    "\n",
    "- Profesores: Stefano Schiappacasse, Sebastián Tinoco\n",
    "- Auxiliares: Melanie Peña, Valentina Rojas\n",
    "- Ayudantes: Angelo Muñoz, Valentina Zúñiga"
   ]
  },
  {
   "cell_type": "markdown",
   "metadata": {
    "cell_id": "851a7788e8214942863cbd4099064ab2",
    "deepnote_cell_type": "markdown",
    "id": "Y2Gyrj-x7N2L"
   },
   "source": [
    "### Equipo: SUPER IMPORTANTE - notebooks sin nombre no serán revisados\n",
    "\n",
    "- Nombre de alumno 1: Francisco Maldonado\n",
    "- Nombre de alumno 2:\n"
   ]
  },
  {
   "cell_type": "markdown",
   "metadata": {
    "cell_id": "f23a189afdec4e198683308db70e43b7",
    "deepnote_cell_type": "markdown",
    "id": "jQ9skYc57Pxi"
   },
   "source": [
    "### **Link de repositorio de GitHub:** [Repositorio](https://github.com/FranMP999/)"
   ]
  },
  {
   "cell_type": "markdown",
   "metadata": {
    "cell_id": "b5318f41cda64d4290a7a548956ed725",
    "deepnote_cell_type": "markdown",
    "id": "1M4PoEWm7S80"
   },
   "source": [
    "## Temas a tratar\n",
    "- Aplicar Pandas para obtener características de un DataFrame.\n",
    "- Aplicar Pipelines y Column Transformers.\n",
    "- Utilizar diferentes algoritmos de cluster y ver el desempeño.\n",
    "\n",
    "## Reglas:\n",
    "\n",
    "- **Grupos de 2 personas**\n",
    "- Fecha de entrega: 6 días de plazo con descuento de 1 punto por día. Entregas Martes a las 23:59.\n",
    "- Instrucciones del lab el viernes a las 16:15 en formato online. Asistencia no es obligatoria, pero se recomienda fuertemente asistir.\n",
    "- <u>Prohibidas las copias</u>. Cualquier intento de copia será debidamente penalizado con el reglamento de la escuela.\n",
    "- Tienen que subir el laboratorio a u-cursos y a su repositorio de github. Labs que no estén en u-cursos no serán revisados. Recuerden que el repositorio también tiene nota.\n",
    "- Cualquier duda fuera del horario de clases al foro. Mensajes al equipo docente serán respondidos por este medio.\n",
    "- Pueden usar cualquier material del curso que estimen conveniente.\n",
    "\n",
    "### Objetivos principales del laboratorio\n",
    "- Comprender cómo aplicar pipelines de Scikit-Learn para generar clusters.\n",
    "- Familiarizarse con plotly.\n",
    "\n",
    "El laboratorio deberá ser desarrollado sin el uso indiscriminado de iteradores nativos de python (aka \"for\", \"while\"). La idea es que aprendan a exprimir al máximo las funciones optimizadas que nos entrega `numpy`, las cuales vale mencionar, son bastante más eficientes que los iteradores nativos sobre arreglos (*o tensores*)."
   ]
  },
  {
   "cell_type": "markdown",
   "metadata": {
    "cell_id": "858df483d9e64780a21674afed1d34b8",
    "deepnote_cell_type": "markdown",
    "id": "SuMbiyQZG2Cc"
   },
   "source": [
    "## Descripción del laboratorio"
   ]
  },
  {
   "cell_type": "markdown",
   "metadata": {
    "cell_id": "403ffe48ec994afda4b91e670a08d0ef",
    "deepnote_cell_type": "markdown",
    "id": "QZsNO4rUrqCz"
   },
   "source": [
    "<center>\n",
    "<img src=\"https://i.pinimg.com/originals/5a/a6/af/5aa6afde8490da403a21601adf7a7240.gif\" width=400 />"
   ]
  },
  {
   "cell_type": "markdown",
   "metadata": {
    "cell_id": "0303baa17d4546feae8c9b88c58470bf",
    "deepnote_cell_type": "markdown",
    "id": "2o0MPuk8rqCz"
   },
   "source": [
    "En el corazón de las operaciones de Aerolínea Lucero, Sergio, el gerente de análisis de datos, reunió a un talentoso equipo de jóvenes científicos de datos para un desafío crucial: segmentar la base de datos de los clientes. “Nuestro objetivo es descubrir patrones en el comportamiento de los pasajeros que nos permitan personalizar servicios y optimizar nuestras campañas de marketing,” explicó Sergio, mientras desplegaba un amplio rango de datos que incluían desde hábitos de compra hasta opiniones sobre los vuelos.\n",
    "\n",
    "Sergio encargó a los científicos de datos la tarea de aplicar técnicas avanzadas de clustering para identificar distintos segmentos de clientes, como los viajeros frecuentes y aquellos que eligen la aerolínea para celebrar ocasiones especiales. La meta principal era entender profundamente cómo estos grupos perciben la calidad y satisfacción de los servicios ofrecidos por la aerolínea.\n",
    "\n",
    "A través de un enfoque meticuloso y colaborativo, los científicos de datos se abocaron a la tarea, buscando transformar los datos brutos en valiosos insights que permitirían a Aerolínea Lucero no solo mejorar su servicio, sino también fortalecer las relaciones con sus clientes mediante una oferta más personalizada y efectiva."
   ]
  },
  {
   "cell_type": "markdown",
   "metadata": {
    "cell_id": "e78cb41b144041af98928ab26dcfdaa9",
    "deepnote_cell_type": "markdown",
    "id": "hs4KKWF1Hdpo"
   },
   "source": [
    "## Importamos librerias utiles 😸"
   ]
  },
  {
   "cell_type": "code",
   "execution_count": null,
   "metadata": {
    "cell_id": "95a5533cfd6d49cfb9afc111c44d224f",
    "deepnote_cell_type": "code",
    "deepnote_to_be_reexecuted": false,
    "execution_millis": 15,
    "execution_start": 1714107106552,
    "id": "a4YpMafirqC0",
    "source_hash": null
   },
   "outputs": [],
   "source": [
    "import numpy as np\n",
    "import pandas as pd\n",
    "import time\n",
    "\n",
    "from sklearn import datasets\n",
    "\n",
    "import plotly.express as px\n",
    "import plotly.graph_objects as go\n",
    "from plotly.subplots import make_subplots\n",
    "\n",
    "\n",
    "from sklearn.cluster import KMeans\n",
    "from sklearn.mixture import GaussianMixture\n",
    "from sklearn.cluster import AgglomerativeClustering\n",
    "from sklearn.cluster import DBSCAN\n",
    "\n",
    "from sklearn.compose import ColumnTransformer\n",
    "from sklearn.pipeline import Pipeline\n",
    "from sklearn.decomposition import PCA\n",
    "\n",
    "from sklearn.ensemble import IsolationForest\n",
    "from sklearn.mixture import GaussianMixture\n",
    "\n",
    "from sklearn.metrics import silhouette_score\n",
    "\n",
    "# Random State permite controlar la aleatoridad.\n",
    "# Es decir, permite generar los mismos números aleatorios en distintas ejecuciones.\n",
    "RANDOM_STATE = 99\n",
    "\n",
    "#Imports de algoritmos de clusters\n",
    "\n",
    "\n",
    "#Paleta de colores auxiliar\n",
    "import matplotlib.pyplot as plt\n",
    "colors = plt.rcParams['axes.prop_cycle'].by_key()['color']"
   ]
  },
  {
   "cell_type": "markdown",
   "metadata": {
    "cell_id": "acbeab32db6146678e75448dddf43da8",
    "deepnote_cell_type": "markdown",
    "id": "UQOXod4gHhSq"
   },
   "source": [
    "## 1. Estudio de Performance 📈 [10 Puntos]\n",
    "\n"
   ]
  },
  {
   "cell_type": "markdown",
   "metadata": {
    "cell_id": "704b56b978254ad3ae12cdbf58f4832d",
    "deepnote_cell_type": "markdown",
    "id": "Gn5u5ICkrqC2"
   },
   "source": [
    "<center>\n",
    "<img src=\"https://i.pinimg.com/originals/23/b7/6e/23b76e9e77e63c0eec1a7b28372369e3.gif\" width=300>"
   ]
  },
  {
   "cell_type": "markdown",
   "metadata": {
    "cell_id": "d35fbdcc5ef045d6a2822622f0714179",
    "deepnote_cell_type": "markdown",
    "id": "y4Z0jTjtrqC2"
   },
   "source": [
    "Don Sergio les ha encomendado su primera tarea: analizar diversas técnicas de clustering. Su objetivo es entender detalladamente cómo funcionan estos métodos en términos de segmentación y eficiencia en tiempo de ejecución.\n",
    "\n",
    "Analice y compare el desempeño, tiempo de ejecución y visualizaciones de cuatro algoritmos de clustering (k-means, DBSCAN, Ward y GMM) aplicados a tres conjuntos de datos, incrementando progresivamente su tamaño. Utilice Plotly para las gráficas y discuta los resultados tanto cualitativa como cuantitativamente.\n",
    "\n",
    "Uno de los requisitos establecidos por Sergio es que el análisis se lleve a cabo utilizando Plotly; de no ser así, se considerará incorrecto. Para facilitar este proceso, se ha proporcionado un código de Plotly que puede servir como base para realizar las gráficas. Apóyese en el código entregado para efectuar el análisis y tome como referencia la siguiente imagen para realizar los gráficos:\n",
    "\n",
    "<img src='https://gitlab.com/imezadelajara/datos_clase_7_mds7202/-/raw/main/misc_images/Screenshot_2024-04-26_at_9.10.44_AM.png' width=800 />\n",
    "\n",
    "En el gráfico se visualizan en dos dimensiones los diferentes tipos de datos proporcionados en `datasets`. Cada columna corresponde a un modelo de clustering diferente, mientras que cada fila representa un conjunto de datos distinto. Cada uno de los gráficos incluye el tiempo en segundos que tarda el análisis y la métrica Silhouette obtenida."
   ]
  },
  {
   "cell_type": "markdown",
   "metadata": {
    "cell_id": "37580aab6cef4238a8ce42c50a6d35de",
    "deepnote_cell_type": "markdown",
    "id": "maCUNAvZrqC2"
   },
   "source": [
    "Para ser más específicos, usted debe cumplir los siguientes objetivos:\n",
    "1. Generar una función que permita replicar el gráfico expuesto en la imagen (no importa que los colores calcen). [4 puntos]\n",
    "2. Ejecuta la función para un `n_samples` igual a 1000, 5000, 10000. [2 puntos]\n",
    "3. Analice y compare el desempeño, tiempo de ejecución y visualizaciones de cuatro algoritmos de clustering utilizando las 3 configuraciones dadas en `n_samples`. [4 puntos]\n",
    "\n",
    "\n",
    "> ❗ Tiene libertad absoluta de escoger los hiper parámetros de los cluster, sin embargo, se recomienda verificar el dominio de las variables para realizar la segmentación.\n",
    "\n",
    "> ❗ Recuerde que es obligatorio el uso de plotly.\n"
   ]
  },
  {
   "cell_type": "code",
   "execution_count": null,
   "metadata": {
    "cell_id": "7f7c25e366754595b13fc2e8116f65a0",
    "deepnote_cell_type": "code",
    "deepnote_to_be_reexecuted": false,
    "execution_millis": 78,
    "execution_start": 1714107108441,
    "id": "i0IZPGPOrqC3",
    "source_hash": null
   },
   "outputs": [],
   "source": [
    "\"\"\"\n",
    "En la siguiente celda se crean los datos ficticios a usar en la sección 1 del lab.\n",
    "❗No realice cambios a esta celda a excepción de n_samples❗\n",
    "\"\"\"\n",
    "\n",
    "# Datos a utilizar\n",
    "\n",
    "# Configuracion\n",
    "n_samples = 5000 #Este parámetro si lo pueden modificar\n",
    "\n",
    "def create_data(n_samples):\n",
    "\n",
    "    # Lunas\n",
    "    moons = datasets.make_moons(n_samples=n_samples, noise=0.05, random_state=30)\n",
    "    # Blobs\n",
    "    blobs = datasets.make_blobs(n_samples=n_samples, random_state=172)\n",
    "    # Datos desiguales\n",
    "    transformation = [[0.6, -0.6], [-0.4, 0.8]]\n",
    "    mutated = (np.dot(blobs[0], transformation), blobs[1])\n",
    "\n",
    "    # Generamos Dataset\n",
    "    dataset = {\n",
    "        'moons':{\n",
    "            'x': moons[0], 'classes': moons[1], 'n_cluster': 2\n",
    "        },\n",
    "        'blobs':{\n",
    "            'x': blobs[0], 'classes': blobs[1], 'n_cluster': 3\n",
    "        },\n",
    "        'mutated':{\n",
    "            'x': mutated[0], 'classes': mutated[1], 'n_cluster': 3\n",
    "        }\n",
    "    }\n",
    "    return dataset\n",
    "\n",
    "data_sets = create_data(n_samples)"
   ]
  },
  {
   "cell_type": "markdown",
   "metadata": {
    "id": "y51s6f_UtIkc"
   },
   "source": [
    "**Respuestas:**"
   ]
  },
  {
   "cell_type": "code",
   "execution_count": null,
   "metadata": {
    "id": "GqWfOXSPKsac"
   },
   "outputs": [],
   "source": [
    "pd_data_sets = {\n",
    "    key : pd.DataFrame({'x1': data_sets[key]['x'][:,0],\n",
    "                        'x2': data_sets[key]['x'][:,1],\n",
    "   #                     'class':  data_sets[key]['classes'],\n",
    "                       })\n",
    "    for key in data_sets.keys()\n",
    "               }\n",
    "metodos = [\"KMeans\", \"GMM\", \"WARD\", \"DBSCAN\"]\n",
    "resultados = {key: dict() for key in [(x, y) for x in metodos for y in data_sets.keys()]}"
   ]
  },
  {
   "cell_type": "code",
   "execution_count": null,
   "metadata": {
    "id": "s_Xxkm3YKsac"
   },
   "outputs": [],
   "source": [
    "for key in data_sets.keys():\n",
    "    times = [time.time()]\n",
    "\n",
    "    resultados[(\"KMeans\", key)][\"labels\"] = (\n",
    "        KMeans(\n",
    "            n_clusters=2,\n",
    "            random_state=RANDOM_STATE,\n",
    "            n_init=10,\n",
    "         ).fit(pd_data_sets[key])\n",
    "        ).labels_\n",
    "    times += [time.time()]\n",
    "\n",
    "    resultados[(\"GMM\", key)][\"labels\"] = (\n",
    "        GaussianMixture(n_components = 2, random_state=RANDOM_STATE)\n",
    "        .fit_predict(pd_data_sets[key])\n",
    "    )\n",
    "    times += [time.time()]\n",
    "\n",
    "    resultados[(\"WARD\", key)][\"labels\"] = (\n",
    "        AgglomerativeClustering(n_clusters=2, linkage=\"ward\")\n",
    "        .fit_predict(pd_data_sets[key])\n",
    "    )\n",
    "    times += [time.time()]\n",
    "\n",
    "    resultados[(\"DBSCAN\", key)][\"labels\"] = (\n",
    "         DBSCAN(eps=0.1, min_samples=2)\n",
    "        .fit_predict(pd_data_sets[key])\n",
    "    )\n",
    "    times += [time.time()]\n",
    "\n",
    "    for i, metodo in enumerate([\"KMeans\", \"GMM\", \"WARD\", \"DBSCAN\"]):\n",
    "        resultados[(metodo, key)][\"score\"] = silhouette_score(\n",
    "                    pd_data_sets[key],\n",
    "                    resultados[(metodo, key)][\"labels\"],\n",
    "                )\n",
    "        resultados[(metodo, key)][\"time\"] = times[i+1] - times[i]"
   ]
  },
  {
   "cell_type": "code",
   "execution_count": null,
   "metadata": {
    "colab": {
     "base_uri": "https://localhost:8080/",
     "height": 737
    },
    "id": "FSBgGVKKKsac",
    "outputId": "5f60d2b3-4cbe-47d4-eb2c-590b45300c7f"
   },
   "outputs": [],
   "source": [
    "fig = make_subplots(\n",
    "    rows=3, cols=4,\n",
    "    subplot_titles=metodos)\n",
    "\n",
    "for i, key in enumerate(data_sets.keys()):\n",
    "    for j, method in enumerate(metodos):\n",
    "        fig.add_trace(\n",
    "            go.Scatter(\n",
    "                x=pd_data_sets[key]['x1'], y=pd_data_sets[key]['x2'],\n",
    "                mode='markers', marker=dict(color=resultados[(method, key)][\"labels\"], colorscale='Viridis'),\n",
    "            ),\n",
    "            row=i+1, col=j+1\n",
    "            )\n",
    "        anotacion = (\n",
    "                f\"{round(resultados[(method, key)] ['time'], 2)} [s] \"\n",
    "                + f\"s: {round(resultados[(method,key)]['score'], 2)}\"\n",
    "            )\n",
    "\n",
    "        fig.add_annotation(\n",
    "            y=-1,  # y = 1 is the top of the plot area; the top is typically uncluttered, so placing\n",
    "                      # the bottom of the title slightly above the graph region works on a wide variety of graphs\n",
    "            text=anotacion,\n",
    "            showarrow=False,\n",
    "            row=i+1,col=j+1\n",
    "            )\n",
    "\n",
    "\n",
    "fig.update_layout(height=700, width=900, title_text=\"Comparación de tiempos de ejecución por técnica\", showlegend=False,)\n",
    "\n",
    "\n",
    "fig.show()\n",
    "#px.scatter(pd_data_sets['moons'], x='x1', y='x2', color='class')"
   ]
  },
  {
   "cell_type": "markdown",
   "metadata": {
    "cell_id": "13c5cb8067d9415f83b3d497954a437a",
    "deepnote_cell_type": "markdown",
    "id": "3mCbZc86rqC6"
   },
   "source": [
    "## 2. Análisis de Satisfacción de Vuelos. [10 puntos]"
   ]
  },
  {
   "cell_type": "markdown",
   "metadata": {
    "cell_id": "fd6e991646b44f50a4b13f01d1542415",
    "deepnote_cell_type": "markdown",
    "id": "JI33m5jbrqC6"
   },
   "source": [
    "<center>\n",
    "<img src=\"https://i.gifer.com/2Hci.gif\" width=400 />"
   ]
  },
  {
   "cell_type": "markdown",
   "metadata": {
    "cell_id": "5742dfbd5a2e43778ff250436bab1005",
    "deepnote_cell_type": "markdown",
    "id": "h5k24znirqC7"
   },
   "source": [
    "Habiendo entendido cómo funcionan los modelos de aprendizaje no supervisado, *Don Sergio* le encomienda estudiar la satisfacción de pasajeros al haber tomado un vuelo en alguna de sus aerolineas. Para esto, el magnate le dispone del dataset `aerolineas_licer.parquet`, el cual contiene el grado de satisfacción de los clientes frente a diferentes aspectos del vuelo. Las características del vuelo se definen a continuación:\n",
    "\n",
    "- *Gender*: Género de los pasajeros (Femenino, Masculino)\n",
    "- *Customer Type*: Tipo de cliente (Cliente habitual, cliente no habitual)\n",
    "- *Age*: Edad actual de los pasajeros\n",
    "- *Type of Travel*: Propósito del vuelo de los pasajeros (Viaje personal, Viaje de negocios)\n",
    "- *Class*: Clase de viaje en el avión de los pasajeros (Business, Eco, Eco Plus)\n",
    "- *Flight distance*: Distancia del vuelo de este viaje\n",
    "- *Inflight wifi service*: Nivel de satisfacción del servicio de wifi durante el vuelo (0:No Aplicable; 1-5)\n",
    "- *Departure/Arrival time convenient*: Nivel de satisfacción con la conveniencia del horario de salida/llegada\n",
    "- *Ease of Online booking*: Nivel de satisfacción con la facilidad de reserva en línea\n",
    "- *Gate location*: Nivel de satisfacción con la ubicación de la puerta\n",
    "- *Food and drink*: Nivel de satisfacción con la comida y la bebida\n",
    "- *Online boarding*: Nivel de satisfacción con el embarque en línea\n",
    "- *Seat comfort*: Nivel de satisfacción con la comodidad del asiento\n",
    "- *Inflight entertainment*: Nivel de satisfacción con el entretenimiento durante el vuelo\n",
    "- *On-board service*: Nivel de satisfacción con el servicio a bordo\n",
    "- *Leg room service*: Nivel de satisfacción con el espacio para las piernas\n",
    "- *Baggage handling*: Nivel de satisfacción con el manejo del equipaje\n",
    "- *Check-in service*: Nivel de satisfacción con el servicio de check-in\n",
    "- *Inflight service*: Nivel de satisfacción con el servicio durante el vuelo\n",
    "- *Cleanliness*: Nivel de satisfacción con la limpieza\n",
    "- *Departure Delay in Minutes*: Minutos de retraso en la salida\n",
    "- *Arrival Delay in Minutes*: Minutos de retraso en la llegada"
   ]
  },
  {
   "cell_type": "markdown",
   "metadata": {
    "id": "sOoIFHpw5xCW"
   },
   "source": [
    "En consideración de lo anterior, realice las siguientes tareas:\n",
    "\n",
    "0. Ingeste el dataset a su ambiente de trabajo.\n",
    "\n",
    "1. Seleccione **sólo las variables numéricas del dataset**.  Explique qué éfectos podría causar el uso de variables categóricas en un algoritmo no supervisado. [2 punto]\n",
    "\n",
    "2. Realice una visualización de la distribución de cada variable y analice cada una de estas distribuciones. [2 punto]\n",
    "\n",
    "3. Basándose en los gráficos, evalúe la necesidad de escalar los datos y explique el motivo de su decisión. [2 puntos]\n",
    "\n",
    "4. Examine la correlación entre las variables mediante un correlograma. [2 puntos]\n",
    "\n",
    "5. De acuerdo con los resultados obtenidos en 5, reduzca la dimensionalidad del conjunto de datos a cuatro variables, justificando su elección respecto a las variables que decide eliminar. [2 puntos]"
   ]
  },
  {
   "cell_type": "markdown",
   "metadata": {
    "id": "tO6tcVBCtxxS"
   },
   "source": [
    "**Respuesta:**"
   ]
  },
  {
   "cell_type": "code",
   "execution_count": null,
   "metadata": {
    "colab": {
     "base_uri": "https://localhost:8080/",
     "height": 1000
    },
    "id": "pzHTZ17xveU_",
    "outputId": "cf412fd6-7c74-4ef3-c0c5-86b0244b4fa8"
   },
   "outputs": [],
   "source": [
    "# Carga de datos\n",
    "df_aero = pd.read_parquet(\"aerolineas_lucer.parquet\")\n",
    "numerical_columns = df_aero.select_dtypes(include=np.number).columns.drop('id') #no se incluye la columna id, pues distintos viajes del mismo cliente se pueden considerar como datos independientes respecto a satisfacción\n",
    "for column in numerical_columns:\n",
    "    fig = px.histogram(df_aero, x=column)\n",
    "    fig.show()"
   ]
  },
  {
   "cell_type": "code",
   "execution_count": null,
   "metadata": {
    "colab": {
     "base_uri": "https://localhost:8080/",
     "height": 717
    },
    "id": "LbUBpfqfKsad",
    "outputId": "d9ee661d-583a-488c-dded-b06cc63c1129"
   },
   "outputs": [],
   "source": [
    "selected_columns = [\"Cleanliness\", \"Ease of Online booking\", \"Seat comfort\", \"Inflight service\"]\n",
    "px.imshow(df_aero[numerical_columns].corr(), height=700)"
   ]
  },
  {
   "cell_type": "markdown",
   "metadata": {
    "id": "1pTbRc1XI2aT"
   },
   "source": [
    "**Respuestas:**\n",
    "\n",
    "1. En general no se deben usar variables categóricas para alimentar un algoritmo no supervisado, pues su funcionamiento se sustenta en la aplicación de medidas de distancias que no son aplicables sobre variables categóricas, por lo que incluirlas sólo corresponde a un sesgo extra sobre el entrenamiento, sobre información cuantitativa que no está realmente presente en los datos.\n",
    "\n",
    "2. De la distribución de las variables se puede apreciar que las variables menos informativas parecen ser *Arrival Delay in minutes* y *Departure Delay in minutes, ya que están demasiado concentradas, son casi una delta de dirac, con una cola muy delgada, poco informativa, podemos concluir que no nos permitirá distinguir los datos notablemente. **Age** y **Flight Distance** son variables continuas que pueden ser de utilidad, sin embargo al ser de naturaleza distinta al resto de variables podrían dificultar a los algoritmos no supervisados la tarea de encontrar patrones en el comportamiento conjunto de las variables. El resto de variables son de evaluación del 0 al 5.\n",
    "\n",
    "3. Dado que se seleccionan sólo variables de evaluación de 0 a 5 no hace falta escalar los datos.\n",
    "\n",
    "5. En base a la matriz de correlaciones se puede observar la correlación de Cleanliness con diversas otras variables, por lo que se decide dejar esta entre las columnas seleccionadas. Más allá de esto se distinguen 4 \"cuadrados\" de alta correlación por lo que se decide seleccionar un atributo de cada cuadrado, intentando escoger aquella que presente correlaciones más altas dentro del \"cuadrado\". Buscando con esta decisión escoger aquellas variables que encapsulen más información de las otras variables del cuadrado que no se seleccionarán.  \n",
    "\n"
   ]
  },
  {
   "cell_type": "markdown",
   "metadata": {
    "cell_id": "4b6c047d994f40ea9e78a36a777042e0",
    "deepnote_cell_type": "markdown",
    "id": "PNGfTgtkrqC9"
   },
   "source": [
    "## 3. Preprocesamiento 🎭. [10 puntos]"
   ]
  },
  {
   "cell_type": "markdown",
   "metadata": {
    "cell_id": "98400c7b5fec4af193eec3601f53891e",
    "deepnote_cell_type": "markdown",
    "id": "J6d4VEOTrqC-"
   },
   "source": [
    "Tras quedar satisfecho con los resultados presentados en el punto 2, el dueño de la empresa ha solicitado que se preprocesen los datos mediante un `pipeline`. Es crucial que este proceso tenga en cuenta las observaciones derivadas de los análisis anteriores. Adicionalmente, ha expresado su interés en visualizar el conjunto de datos en un gráfico de dos o tres dimensiones.\n",
    "\n",
    "Basándose en los análisis realizados anteriormente:\n",
    "1. Cree un `pipeline` que incluya PCA, utilizando las consideraciones mencionadas previamente para proyectar los datos a dos dimensiones. [4 puntos]\n",
    "2. Grafique los resultados obtenidos y comente lo visualizado. [6 puntos]"
   ]
  },
  {
   "cell_type": "markdown",
   "metadata": {
    "id": "paDSaGoq0OUp"
   },
   "source": [
    "**Respuestas:**"
   ]
  },
  {
   "cell_type": "code",
   "execution_count": null,
   "metadata": {
    "colab": {
     "base_uri": "https://localhost:8080/",
     "height": 542
    },
    "id": "DJhwh9a4Ksae",
    "outputId": "3c1f94a4-0f64-4539-cd3e-bc1e359ac857"
   },
   "outputs": [],
   "source": [
    "# Escriba su código aquí\n",
    "\n",
    "# Se usaran las 4 columnas previamente seleccionadas para proyectar a 2 dimensiones\n",
    "reductor = [('reduce_dim', PCA(n_components=2))]\n",
    "pipe = Pipeline(reductor)\n",
    "array_reducted = pipe.fit_transform(df_aero[selected_columns])\n",
    "df_reducted = pd.DataFrame({\n",
    "    'x': array_reducted[:,0],\n",
    "    'y': array_reducted[:,1],\n",
    "                       })\n",
    "# Gráfico\n",
    "fig = px.scatter(\n",
    "        df_reducted,\n",
    "        x=\"x\",\n",
    "        y=\"y\",\n",
    "        range_x=(df_reducted[\"x\"].min() - 1, df_reducted[\"x\"].max() + 1),\n",
    "        range_y=(df_reducted[\"y\"].min() - 1, df_reducted[\"y\"].max() + 1),\n",
    "    )\n",
    "fig.show()"
   ]
  },
  {
   "cell_type": "markdown",
   "metadata": {
    "id": "ZGAMRj3j_TmT"
   },
   "source": [
    "En la proyección se identifican claras agrupaciones de puntos, podemos reconocer 9 columnas distinguidas, formadas cada una por 6 grupos distinguibles, cada uno  conformado por 5 puntos muy densos de datos."
   ]
  },
  {
   "cell_type": "markdown",
   "metadata": {
    "cell_id": "bd281470d3054764a63d857cfa7d52a6",
    "deepnote_cell_type": "text-cell-h2",
    "formattedRanges": [],
    "id": "7ENoOtIIrqC_"
   },
   "source": [
    "## 4. Outliers 🚫🙅‍♀️❌🙅‍♂️ [10 puntos]"
   ]
  },
  {
   "cell_type": "markdown",
   "metadata": {
    "cell_id": "db89e9c9f35c44abbd8991180226c0ea",
    "deepnote_cell_type": "markdown",
    "id": "fbGw6Sa-rqC_"
   },
   "source": [
    "<center>\n",
    "<img src=\"https://joachim-gassen.github.io/images/ani_sim_bad_leverage.gif\" width=250>"
   ]
  },
  {
   "cell_type": "markdown",
   "metadata": {
    "cell_id": "3e2f59fa12954641af7a854a4e203694",
    "deepnote_cell_type": "markdown",
    "id": "nl_ccu9brqDA"
   },
   "source": [
    "Con el objetivo de mantener la claridad en su análisis, Don Sergio le ha solicitado entrenar un modelo que identifique pasajeros con comportamientos altamente atípicos.\n",
    "\n",
    "1. Utilice `IsolationForest` para clasificar las anomalías del dataset (sin aplicar PCA), configurando el modelo para que sólo el 1% de los datos sean considerados anómalos. Asegúrese de integrar esta tarea dentro de un `pipeline`. [3 puntos]\n",
    "\n",
    "2. Visualice los resultados en el gráfico de dos dimensiones previamente creado. [3 puntos]\n",
    "\n",
    "3. ¿Cómo evaluaría el rendimiento de su modelo en la detección de anomalías? [4 puntos]"
   ]
  },
  {
   "cell_type": "markdown",
   "metadata": {
    "id": "b5cS1FR00NlF"
   },
   "source": [
    "**Respuestas:**"
   ]
  },
  {
   "cell_type": "code",
   "execution_count": null,
   "metadata": {
    "cell_id": "be86896911244aa89e3b5f3f00a286af",
    "deepnote_cell_type": "code",
    "id": "iaPZFmjyrqDA"
   },
   "outputs": [],
   "source": [
    "# Escriba su código aquí\n",
    "\n",
    "outliers = [('outliers', IsolationForest(\n",
    "    random_state=RANDOM_STATE,\n",
    "    contamination=0.01,\n",
    "))]\n",
    "pipe = Pipeline(outliers)\n",
    "df_reducted[\"outlier_labels\"] = (\n",
    "        pipe\n",
    "        .fit(df_aero[selected_columns])\n",
    "        .predict(df_aero[selected_columns])\n",
    "        )"
   ]
  },
  {
   "cell_type": "code",
   "execution_count": null,
   "metadata": {
    "colab": {
     "base_uri": "https://localhost:8080/",
     "height": 542
    },
    "id": "TkQjsTwmKsae",
    "outputId": "eba11188-6da3-4ec8-e161-d9a71fdec460"
   },
   "outputs": [],
   "source": [
    "fig = px.scatter(\n",
    "    df_reducted,\n",
    "    x=\"x\",\n",
    "    y=\"y\",\n",
    "    range_x=(df_reducted[\"x\"].min() - 1, df_reducted[\"x\"].max() + 1),\n",
    "    range_y=(df_reducted[\"y\"].min() - 1, df_reducted[\"y\"].max() + 1),\n",
    "    color=\"outlier_labels\"\n",
    "    )\n",
    "fig.show()"
   ]
  },
  {
   "cell_type": "markdown",
   "metadata": {
    "id": "EShgg8Cp908X"
   },
   "source": [
    "Basándonos exclusivamente en la proyección a dos dimensiones podemos concluir que la detección de anomalías es deficiente, pudiendo identificar una anomalía clara en el análisis gráfico, pero identificando un gran número de datos que pertenecen a la distribución principal como anomalías. Sin embargo es dificil adjudicar esto a un problema del algoritmo, pues de lo que identificamos en la proyección, sólo existe un outlier, y sin embargo le exigimos la identificación de un 10% de los datos, en el orden de cientos."
   ]
  },
  {
   "cell_type": "markdown",
   "metadata": {
    "cell_id": "3871e2fe5bdd422dbdbfaebf75503ae3",
    "deepnote_cell_type": "markdown",
    "id": "zQFTklmVrqDB"
   },
   "source": [
    "## 5. Métricas de Desempeño 🚀 [10 puntos]"
   ]
  },
  {
   "cell_type": "markdown",
   "metadata": {
    "cell_id": "a7e1ceb91be94b1da2ab8be97dfac999",
    "deepnote_cell_type": "markdown",
    "id": "CR3hzRxrrqDB"
   },
   "source": [
    "Motivado por incrementar su fortuna, Don Sergio le solicita entrenar un modelo que le permita segmentar a los pasajeros en grupos distintos, con el objetivo de optimizar las diversas campañas de marketing diseñadas por su equipo. Para ello, le se pide realizar las siguientes tareas:\n",
    "\n",
    "1. Utilizar el modelo **Gaussian Mixture** y explore diferentes configuraciones de número de clústers, específicamente entre 3 y 8. Asegúrese de integrar esta operación dentro de un `pipeline`. [4 puntos]\n",
    "2. Explique cuál sería el criterio adecuado para seleccionar el número óptimo de clústers. **Justifique de forma estadistica y a traves de gráficos.** [6 puntos]\n",
    "\n",
    "> **HINT:** Se recomienda investigar sobre los criterios AIC y BIC para esta tarea."
   ]
  },
  {
   "cell_type": "markdown",
   "metadata": {
    "id": "Jt_T_zTg0MXB"
   },
   "source": [
    "**Respuestas:**"
   ]
  },
  {
   "cell_type": "code",
   "execution_count": null,
   "metadata": {
    "cell_id": "6d3d1bb3fda14321984466d9101a775a",
    "colab": {
     "base_uri": "https://localhost:8080/",
     "height": 1000
    },
    "deepnote_cell_type": "code",
    "id": "5GeUb9J3rqDB",
    "outputId": "e5056452-d3f1-4c96-b1db-0e2a3cae9829"
   },
   "outputs": [],
   "source": [
    "# Escriba su código aquí\n",
    "\n",
    "gmms = [\n",
    "    GaussianMixture(n_components=n, random_state=RANDOM_STATE).fit(df_aero[selected_columns])\n",
    "    for n in range(3, 9)\n",
    "]\n",
    "\n",
    "clusters = [\n",
    "    gmm.predict(df_aero[selected_columns])\n",
    "    for gmm in gmms\n",
    "]\n",
    "\n",
    "\n",
    "gmm_labels = pd.DataFrame(np.array(clusters)).T\n",
    "gmm_labels.columns = range(3, 9)\n",
    "\n",
    "gmm_labels[\"x\"] = df_reducted.x\n",
    "gmm_labels[\"y\"] = df_reducted.y\n",
    "\n",
    "gmm_labels = gmm_labels.melt(\n",
    "    id_vars=[\"x\", \"y\"], var_name=\"n_components\", value_name=\"label\"\n",
    ")\n",
    "gmm_labels[\"label\"] = gmm_labels[\"label\"].astype(str)\n",
    "\n",
    "fig = px.scatter(\n",
    "    gmm_labels,\n",
    "    x=\"x\",\n",
    "    y=\"y\",\n",
    "    facet_row=\"n_components\",\n",
    "    color=\"label\",\n",
    "    height=1600,\n",
    ")\n",
    "fig.show()\n"
   ]
  },
  {
   "cell_type": "code",
   "execution_count": null,
   "metadata": {
    "colab": {
     "base_uri": "https://localhost:8080/",
     "height": 1000
    },
    "id": "dnp25tUTKsai",
    "outputId": "beeada53-b930-494d-ad16-c4850ae550db"
   },
   "outputs": [],
   "source": [
    "scores_df = pd.DataFrame({\n",
    "    \"n_components\" : range(3,9),\n",
    "    \"aic\" : [\n",
    "        gmm.aic(df_aero[selected_columns])\n",
    "        for gmm in gmms\n",
    "    ],\n",
    "    \"bic\" : [\n",
    "        gmm.bic(df_aero[selected_columns])\n",
    "        for gmm in gmms\n",
    "    ]}).set_index(\"n_components\")\n",
    "\n",
    "fig = px.line(scores_df)\n",
    "fig.show()\n",
    "fig = px.line(scores_df.loc[:7,:])\n",
    "fig.show()"
   ]
  },
  {
   "cell_type": "markdown",
   "metadata": {
    "id": "WKI_XSD6Ksai"
   },
   "source": [
    "**Respuesta:** Ambos son criterios de selección de modelos basados en verosimilitud, balanceando capacidad de fiteo y complejidad,\n",
    "en general BIC tiende a penalizar más fuertemente modelos con muchos parámetros que AIC, buscando  escoger modelos más simples. Pero\n",
    "ambos consisten en maximizar la verosimilitud penalizando el número de parámetros y están basados en la teoría de la información.\n",
    "Se distingue con claridad del análisis de ambos estadísticos que el número de clusters más apto entre los seleccionados es $8$.\n",
    "\n",
    "\n"
   ]
  },
  {
   "cell_type": "markdown",
   "metadata": {
    "cell_id": "dd342e336254418ba766b29dce16b267",
    "deepnote_cell_type": "markdown",
    "id": "P9CERnaerqDC"
   },
   "source": [
    "## 6. Análisis de resultados 📊 [10 puntos]"
   ]
  },
  {
   "cell_type": "markdown",
   "metadata": {
    "cell_id": "fd90e2f135404353ac0b5ab844936ca7",
    "deepnote_cell_type": "markdown",
    "id": "dg0Qx4RZrqDC"
   },
   "source": [
    "Una vez identificado el número óptimo de clústers, se le pide realizar lo siguiente:\n",
    "\n",
    "1. Utilizar la proyección en dos dimensiones para visualizar cada clúster claramente. [2 puntos]\n",
    "\n",
    "2. ¿Es posible distinguir claramente entre los clústers generados? [2 puntos]\n",
    "\n",
    "3. Proporcionar una descripción breve de cada clúster utilizando estadísticas descriptivas básicas, como la media y la desviación estándar, para resumir las características de las variables utilizadas en estos algoritmos. [2 puntos]\n",
    "\n",
    "4. Proceda a visualizar los clústers en tres dimensiones para una perspectiva más detallada. [2 puntos]\n",
    "\n",
    "5. ¿Cómo afecta esto a sus conclusiones anteriores? [2 puntos]"
   ]
  },
  {
   "cell_type": "markdown",
   "metadata": {
    "id": "CRN0zZip0IMB"
   },
   "source": [
    "**Respuestas:**"
   ]
  },
  {
   "cell_type": "code",
   "execution_count": null,
   "metadata": {
    "cell_id": "9abf4dbc643e40cebe99fcb1ff3ff413",
    "colab": {
     "base_uri": "https://localhost:8080/",
     "height": 542
    },
    "deepnote_cell_type": "code",
    "id": "XmZrz15GrqDC",
    "outputId": "01229bde-3ffc-448f-efe4-b1cd4f1f83e3",
    "scrolled": true
   },
   "outputs": [],
   "source": [
    "# Escriba su código aquí\n",
    "df_reducted[\"gmm_labels\"] = clusters[-1]\n",
    "fig = px.scatter(\n",
    "    df_reducted,\n",
    "    x=\"x\",\n",
    "    y=\"y\",\n",
    "    range_x=(df_reducted[\"x\"].min() - 1, df_reducted[\"x\"].max() + 1),\n",
    "    range_y=(df_reducted[\"y\"].min() - 1, df_reducted[\"y\"].max() + 1),\n",
    "    color=\"gmm_labels\",\n",
    "    title=\"Proyección de clusters en 2D\"\n",
    "    )\n",
    "fig.show()"
   ]
  },
  {
   "cell_type": "code",
   "execution_count": null,
   "metadata": {
    "colab": {
     "base_uri": "https://localhost:8080/",
     "height": 264
    },
    "id": "l5Q186GqPisA",
    "outputId": "130639d7-51d2-43db-f599-d1b2563b4c9c"
   },
   "outputs": [],
   "source": [
    "import itertools\n",
    "from scipy import linalg\n",
    "import matplotlib as mpl\n",
    "\n",
    "color_iter = itertools.cycle([\"navy\", \"c\", \"cornflowerblue\", \"gold\", \"darkorange\"])\n",
    "\n",
    "means = np.array([\n",
    "    df_reducted[df_reducted[\"gmm_labels\"] == i].mean()[[\"x\", \"y\"]]\n",
    "    for i in range(0,8)\n",
    "])\n",
    "\n",
    "covariances = np.array([\n",
    "    df_reducted[df_reducted[\"gmm_labels\"] == i][[\"x\", \"y\"]].cov()\n",
    "    for i in range(0,8)\n",
    "])\n",
    "\n",
    "splot = plt.subplot(2, 1, 1)\n",
    "for i, (mean, covar, color) in enumerate(zip(means, covariances, color_iter)):\n",
    "    v, w = linalg.eigh(covar)\n",
    "    v = 2.0 * np.sqrt(2.0) * np.sqrt(v)\n",
    "    u = w[0] / linalg.norm(w[0])\n",
    "    # as the DP will not use every component it has access to\n",
    "    # unless it needs it, we shouldn't plot the redundant\n",
    "    # components.\n",
    "    if not np.any(clusters[-1] == i):\n",
    "        continue\n",
    "    plt.scatter(df_reducted[\"x\"], df_reducted[\"y\"], 0.8, color=color)\n",
    "\n",
    "    # Plot an ellipse to show the Gaussian component\n",
    "    angle = np.arctan(u[1] / u[0])\n",
    "    angle = 180.0 * angle / np.pi  # convert to degrees\n",
    "    ell = mpl.patches.Ellipse(mean, v[0], v[1], angle=180.0 + angle, color=color)\n",
    "    ell.set_clip_box(splot.bbox)\n",
    "    ell.set_alpha(0.5)\n",
    "    splot.add_artist(ell)\n",
    "\n",
    "plt.xlim(df_reducted[\"x\"].min() - 1, df_reducted[\"x\"].max() + 1)\n",
    "plt.ylim(df_reducted[\"y\"].min() - 1, df_reducted[\"y\"].max() + 1)\n",
    "plt.xticks(())\n",
    "plt.yticks(())\n",
    "plt.title(r\"Elipses de confianza ($1\\sigma$) para los distintos clusters\")\n",
    "plt.figure(figsize=(20,15))\n",
    "\n"
   ]
  },
  {
   "cell_type": "markdown",
   "metadata": {
    "id": "05g-Rcpu7Bkw"
   },
   "source": [
    "Dada la poca interpretabilidad que tienen los promedios y covarianzas que caracterizan la clusterización Gaussiana en cuatro dimensiones, se proyectan a dos dimensiones para graficar y poder interpretar. Lamentablemente no logré graficar las elipses en plotly, sin embargo estas permiten ver que los clusters proyectados no logran separar correctamente las agrupaciones de datos, y pareciera que el algoritmo no logra hacer un trabajo adecuado para reconocer patrones en este conjunto de datos."
   ]
  },
  {
   "cell_type": "code",
   "execution_count": null,
   "metadata": {
    "colab": {
     "base_uri": "https://localhost:8080/",
     "height": 542
    },
    "id": "mhbXjR2gKsaj",
    "outputId": "2ef46987-bd55-4f64-eb63-ebdaf0bcb3c9"
   },
   "outputs": [],
   "source": [
    "reductor2 = [('reduce_dim', PCA(n_components=3))]\n",
    "pipe_reductor2 = Pipeline(reductor2)\n",
    "array_reducted2 = pipe_reductor2.fit_transform(df_aero[selected_columns])\n",
    "df_reducted2 = pd.DataFrame({\n",
    "    'x': array_reducted2[:,0],\n",
    "    'y': array_reducted2[:,1],\n",
    "    'z': array_reducted2[:,2],\n",
    "    \"gmm_labels\" : clusters[-1],\n",
    "                       })\n",
    "# Gráfico\n",
    "fig = px.scatter_3d(\n",
    "    df_reducted2,\n",
    "    x=\"x\",\n",
    "    y=\"y\",\n",
    "    z=\"z\",\n",
    "    range_x=(df_reducted2[\"x\"].min() - 1, df_reducted2[\"x\"].max() + 1),\n",
    "    range_y=(df_reducted2[\"y\"].min() - 1, df_reducted2[\"y\"].max() + 1),\n",
    "    range_z=(df_reducted2[\"z\"].min() - 1, df_reducted2[\"z\"].max() + 1),\n",
    "    color=\"gmm_labels\"\n",
    "    )\n",
    "fig.show()"
   ]
  },
  {
   "cell_type": "markdown",
   "metadata": {
    "id": "t2DSdDJZ61qa"
   },
   "source": [
    "En tres dimensiones se logra apreciar una diferenciación mucho más clara entre los clusters 4,5,6, sin embargo sigue habiendo un fuerte solape entre los clusters 0,1,2,3 y 7, solape que posiblemente se solucione en cuatro dimensiones. La visualización en tres dimensiones definitivamente entrega un insight más profundo del desempeño del algoritmo, sin embargo la naturaleza de la data parece no ser la más apropiada para este algoritmo de clasificación, por no presentar conjuntos de forma \"elipsoide\" que la mezcla gaussiana presupone."
   ]
  }
 ],
 "metadata": {
  "colab": {
   "provenance": []
  },
  "deepnote_execution_queue": [],
  "deepnote_notebook_id": "7cb425aec99b4079954fd707109c42c3",
  "deepnote_persisted_session": {
   "createdAt": "2024-04-26T06:15:51.197Z"
  },
  "kernelspec": {
   "display_name": "lab_env",
   "language": "python",
   "name": "lab_env"
  },
  "language_info": {
   "codemirror_mode": {
    "name": "ipython",
    "version": 3
   },
   "file_extension": ".py",
   "mimetype": "text/x-python",
   "name": "python",
   "nbconvert_exporter": "python",
   "pygments_lexer": "ipython3",
   "version": "3.13.3"
  }
 },
 "nbformat": 4,
 "nbformat_minor": 4
}
